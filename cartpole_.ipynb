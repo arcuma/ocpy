{
 "cells": [
  {
   "cell_type": "code",
   "execution_count": null,
   "metadata": {},
   "outputs": [],
   "source": [
    "from ocpy import OCP\n",
    "from ocpy import UCRRSolver\n",
    "from ocpy import symutils\n",
    "\n",
    "import numpy as np\n",
    "import sympy as sym\n",
    "from sympy import sin, cos, tan, exp, log, ln, sinh, cosh, tanh, diff, sqrt\n",
    "from IPython.display import display, Math\n"
   ]
  },
  {
   "cell_type": "code",
   "execution_count": null,
   "metadata": {},
   "outputs": [],
   "source": [
    "# Dimensions of state and input\n",
    "n_x = 4\n",
    "n_u = 1\n",
    "sim_name = 'cartpole'\n",
    "# Define ocp class\n",
    "ocp = OCP(n_x, n_u, sim_name)\n",
    "# Get symbols\n",
    "t = ocp.get_t()\n",
    "x = ocp.get_x()\n",
    "u = ocp.get_u()\n"
   ]
  },
  {
   "cell_type": "code",
   "execution_count": null,
   "metadata": {},
   "outputs": [],
   "source": [
    "# Symbolic expressions of constants.\n",
    "m_c, m_p, l, g, u_min, u_max, u_eps = ocp.define_scalar_constants(\n",
    "         [('m_c', 2), ('m_p', 0.1), ('l', 0.5), ('g', 9.80665), \n",
    "          ('u_min', -15),  ('u_max', 15), ('u_eps', 0.001)]\n",
    "          )\n",
    "# Cost weight\n",
    "q = ocp.define_vector_constant('q', [2.5, 10, 0.01, 0.01])\n",
    "r = ocp.define_vector_constant('r', [1])\n",
    "q_f = ocp.define_vector_constant('q_{f}', [2.5, 10, 0.01, 0.01])\n",
    "Q = symutils.diag(q)\n",
    "Q_f = symutils.diag(q_f)\n",
    "R = symutils.diag(r)\n",
    "# Reference state. \n",
    "x_ref = ocp.define_vector_constant('x_{ref}', [0, np.pi, 0, 0])\n"
   ]
  },
  {
   "cell_type": "code",
   "execution_count": null,
   "metadata": {},
   "outputs": [],
   "source": [
    "# State of equation.\n",
    "f = ocp.get_zero_vector(n_x)\n",
    "f[0] = x[2]\n",
    "f[1] = x[3]\n",
    "f[2] = (u[0] + m_p*sin(x[1])*(l*x[1]*x[1] + g*cos(x[1])) )/( m_c+m_p*sin(x[1])*sin(x[1]) )\n",
    "f[3] = (-u[0] * cos(x[1]) - m_p*l*x[1]*x[1]*cos(x[1])*sin(x[1]) \n",
    "        - (m_c+m_p)*g*sin(x[1]) )/( l*(m_c + m_p*sin(x[1])*sin(x[1])))\n",
    "# Log barrier for control limits.\n",
    "u_barrier = sym.Matrix([sum(-ln(u[i] - u_min) - ln(u_max - u[i]) for i in range(n_u))*1e-5])\n",
    "# Stage cost and terminal cost.\n",
    "l = (x - x_ref).T * Q * (x - x_ref) + u.T * R * u #+ u_barrier\n",
    "lf = (x - x_ref).T * Q_f * (x - x_ref)\n",
    "# Display state equation and cost function\n",
    "display(Math(r\"\\dot{x} = f(x, u, t) \\equiv %s\" % sym.latex(f)))\n",
    "display(Math(r\"l(x, u) = %s\" % sym.latex(l)))\n",
    "display(Math(r\"l_f(x) = %s\" % sym.latex(lf)))\n"
   ]
  },
  {
   "cell_type": "code",
   "execution_count": null,
   "metadata": {},
   "outputs": [],
   "source": [
    "# Horizon length and discretization grids.\n",
    "T = 5.0\n",
    "N = 200\n",
    "# Initial condition\n",
    "t0 = 0.0\n",
    "x0 = np.array([0.0, 0.0, 0.0, 0.0])\n",
    "\n",
    "# Define ocp\n",
    "ocp.define_unconstrained(f, l, lf, t0, x0, T, N)\n"
   ]
  },
  {
   "cell_type": "code",
   "execution_count": null,
   "metadata": {},
   "outputs": [],
   "source": [
    "solver = UCRRSolver(ocp)\n",
    "\n",
    "us_guess = np.zeros((N, n_u))\n",
    "xs_guess = np.tile(x0, (N + 1, 1))\n",
    "lmds_guess = np.zeros((N + 1, n_x))\n",
    "\n",
    "solver.set_guess(xs_guess=xs_guess, us_guess=us_guess, lmds_guess=lmds_guess)\n"
   ]
  },
  {
   "cell_type": "code",
   "execution_count": null,
   "metadata": {},
   "outputs": [],
   "source": [
    "alphas = [0.5**i for i in range(8)]\n",
    "\n",
    "# set hyperparameters.\n",
    "solver.set_alphas(alphas)\n",
    "solver.set_regularization_coeff(gamma_init=1e-3, rho_gamma=5.0, gamma_min=0.0, gamma_max=1e6)\n",
    "solver.set_stop_tol(kkt_tol=1e-3)\n",
    "solver.set_max_iters(1000)\n",
    "\n",
    "# Solve ocp\n",
    "xs, us, ts, is_success = solver.solve(\n",
    "    result=True, log=True, plot=True, gamma_fixed=0.0, enable_line_search=False\n",
    ")\n"
   ]
  },
  {
   "cell_type": "code",
   "execution_count": null,
   "metadata": {},
   "outputs": [],
   "source": [
    "xs"
   ]
  },
  {
   "cell_type": "code",
   "execution_count": null,
   "metadata": {},
   "outputs": [],
   "source": [
    "%matplotlib inline\n",
    "# Visualize\n",
    "from ocpy.animator import CartPoleAnimator\n",
    "animator = CartPoleAnimator(solver.get_log_directory(), sim_name)\n",
    "animator.generate_animation(False)\n"
   ]
  },
  {
   "cell_type": "code",
   "execution_count": null,
   "metadata": {},
   "outputs": [],
   "source": [
    "print('xs\\n', xs)\n",
    "print('us\\n', us)\n"
   ]
  },
  {
   "cell_type": "code",
   "execution_count": null,
   "metadata": {},
   "outputs": [],
   "source": [
    "result = solver.get_result()\n",
    "gamma_hist = result['gamma_hist']\n",
    "\n",
    "import matplotlib.pyplot as plt\n",
    "import math\n",
    "\n",
    "plt.plot(gamma_hist)\n",
    "plt.title('gamma')\n",
    "plt.show()\n",
    "\n",
    "alpha_hist = result['alpha_hist']\n",
    "plt.plot(alpha_hist)\n",
    "plt.title('alpha')\n",
    "plt.show()\n",
    "print('average alpha:',sum(alpha_hist / (len(alpha_hist) - 1)))\n",
    "\n",
    "cost_hist = result['cost_hist']\n",
    "plt.plot(cost_hist)\n",
    "plt.title('cost')\n",
    "plt.show()\n",
    "\n",
    "kkt_error_hist = result['kkt_error_hist']\n",
    "plt.yscale('log')\n",
    "plt.plot(kkt_error_hist)\n",
    "plt.title('KKT error')\n",
    "plt.show()\n",
    "\n",
    "dyn_feas_hist = result['dyn_feas_hist']\n",
    "dyn_feas_hist = np.where(dyn_feas_hist < 1e-20, np.nan, dyn_feas_hist)\n",
    "plt.yscale('log')\n",
    "plt.plot(kkt_error_hist, label='kkt_error')\n",
    "plt.plot(dyn_feas_hist, label='dyn_feas')\n",
    "plt.legend()\n",
    "plt.title('dynamics feasibility error')\n",
    "plt.show()\n"
   ]
  },
  {
   "cell_type": "code",
   "execution_count": null,
   "metadata": {},
   "outputs": [],
   "source": []
  }
 ],
 "metadata": {
  "kernelspec": {
   "display_name": "Python 3",
   "language": "python",
   "name": "python3"
  },
  "language_info": {
   "codemirror_mode": {
    "name": "ipython",
    "version": 3
   },
   "file_extension": ".py",
   "mimetype": "text/x-python",
   "name": "python",
   "nbconvert_exporter": "python",
   "pygments_lexer": "ipython3",
   "version": "3.10.12"
  },
  "orig_nbformat": 4
 },
 "nbformat": 4,
 "nbformat_minor": 2
}
