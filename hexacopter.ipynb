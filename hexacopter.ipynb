{
 "cells": [
  {
   "cell_type": "code",
   "execution_count": null,
   "metadata": {},
   "outputs": [],
   "source": [
    "from ocpy.ocp import OCP\n",
    "from ocpy.ddp import DDPSolver\n",
    "from ocpy import symutils\n",
    "\n",
    "import numpy as np\n",
    "import sympy as sym\n",
    "from sympy import sin, cos, tan, exp, log, ln, sinh, cosh, tanh, diff, sqrt\n"
   ]
  },
  {
   "cell_type": "code",
   "execution_count": null,
   "metadata": {},
   "outputs": [],
   "source": [
    "n_x = 12\n",
    "n_u = 6\n",
    "sim_name = 'hexacopter'\n",
    "\n",
    "ocp = OCP(n_x, n_u, sim_name)\n",
    "\n",
    "t = ocp.get_t()\n",
    "x = ocp.get_x()\n",
    "u = ocp.get_u()\n"
   ]
  },
  {
   "cell_type": "code",
   "execution_count": null,
   "metadata": {},
   "outputs": [],
   "source": [
    "m, l, k, Ixx, Iyy, Izz, gamma, g = ocp.define_scalar_constants(\n",
    "    [('m', 1.44), ('l', 0.23), ('k', 1.6e-09),\n",
    "     ('Ixx', 0.0348), ('Iyy', 0.0459), ('Izz', 0.0977),\n",
    "     ('gamma', 0.01), ('g', 9.80665)]\n",
    ")\n",
    "z_ref, u_min, u_max, epsilon = ocp.define_scalar_constants(\n",
    "    [('z_ref', 5), ('u_min', 0.144), ('u_max', 6), ('epsilon', 0.01)]\n",
    ")\n",
    "\n",
    "q = ocp.define_vector_constant(\n",
    "    'q',  [1, 1, 1, 0.01, 0.01, 0, 0.01, 0.01, 0.01, 0.1, 0.1, 0.001])\n",
    "r = ocp.define_vector_constant(\n",
    "    'r',  [0.01, 0.01, 0.01, 0.01, 0.01, 0.01])\n",
    "qf = ocp.define_vector_constant(\n",
    "    'qf',  [1, 1, 1, 0.01, 0.01, 0, 0.01, 0.01, 0.01, 0.1, 0.1, 0.001])\n",
    "Q = sym.diag(*q)\n",
    "R = sym.diag(*r)\n",
    "Qf = sym.diag(*qf)\n"
   ]
  },
  {
   "cell_type": "code",
   "execution_count": null,
   "metadata": {},
   "outputs": [],
   "source": [
    "p_ref = ocp.zero_vector(3)\n",
    "p_ref[0] = sin(2*t)\n",
    "p_ref[1] = cos(2*t)\n",
    "p_ref[2] = z_ref + 2*sin(2*t)\n",
    "# Or, directly\n",
    "# p_ref = sym.Matrix([[sin(2*t)],\n",
    "#                     [(1 - cos(2*t))],\n",
    "#                     [z_ref + 2*sin(t)]])\n",
    "p_ref_diff = p_ref.diff(t)\n",
    "\n",
    "x_ref = ocp.zero_vector(n_x)\n",
    "x_ref[0:3, :] = p_ref\n",
    "x_ref[3:6, :] = p_ref_diff\n",
    "\n",
    "U1 = sum(u[i] for i in range(n_u))\n",
    "U2 = l*(-u[0]/2 - u[1] - u[2]/2 + u[3]/2 + u[4]+ u[5]/2)\n",
    "U3 = l*(-(sqrt(3)/2)*u[0] + (sqrt(3)/2)*u[2] + (sqrt(3)/2)*u[3] - (sqrt(3)/2)*u[5])\n",
    "U4 = k*(-u[0] + u[1] - u[2] + u[3] - u[4] + u[5]) - gamma * x[11]\n",
    "\n",
    "f = ocp.zero_vector(n_x)\n",
    "f[0] = x[6]\n",
    "f[1] = x[7]\n",
    "f[2] = x[8]\n",
    "f[3] = x[9]\n",
    "f[4] = x[10]\n",
    "f[5] = x[11]\n",
    "f[6] = (cos(x[5])*sin(x[4])*cos(x[3]) + sin(x[5])*sin(x[3]))*U1/m\n",
    "f[7] = (sin(x[5])*sin(x[4])*cos(x[3]) - cos(x[5])*sin(x[3]))*U1/m\n",
    "f[8] = -g + (cos(x[3])*cos(x[4]))*U1/m\n",
    "f[9] = ((Iyy-Izz)/Ixx)*x[10]*x[11] + U2/Ixx\n",
    "f[10] = ((Izz-Ixx)/Iyy)*x[9]*x[11] + U3/Iyy\n",
    "f[11] = ((Ixx-Iyy)/Izz)*x[9]*x[10] + U4/Izz\n",
    "\n",
    "u_ref = ocp.zero_vector(n_u)\n",
    "for i in range(n_u):\n",
    "    u_ref[i] = (m*g) / 6\n",
    "\n",
    "u_barrier = sum(-ln(u[i] - u_min) - ln(u_max - u[i]) for i in range(n_u))\n",
    "l = (x - x_ref).T * Q * (x - x_ref) + (u - u_ref).T * R * (u - u_ref) + epsilon * sym.Matrix([u_barrier])\n",
    "lf = (x - x_ref).T * Qf * (x - x_ref)\n",
    "\n",
    "display('f', f)\n",
    "display('l', l)\n",
    "display('lf', lf)"
   ]
  },
  {
   "cell_type": "code",
   "execution_count": null,
   "metadata": {},
   "outputs": [],
   "source": [
    "T = 5.0\n",
    "N = 200\n",
    "\n",
    "t0 = 0.0\n",
    "x0 = np.array([0, 0, 5, 0, 0, 0, 0, 0, 0, 0, 0, 0])\n",
    "us_guess = np.array([[1, 1, 1, 1, 1, 1] for i in range(N)])\n",
    "\n",
    "ocp.define(f, l, lf, T, N, t0, x0, us_guess)\n"
   ]
  },
  {
   "cell_type": "code",
   "execution_count": null,
   "metadata": {},
   "outputs": [],
   "source": [
    "solver = DDPSolver(ocp)\n"
   ]
  },
  {
   "cell_type": "code",
   "execution_count": null,
   "metadata": {},
   "outputs": [],
   "source": [
    "alphas = [0.5**i for i in range(8)].append(0)\n",
    "solver.set_solver_parameters(\n",
    "    max_iter=300, alphas=alphas, damp_init=1e-1, damp_max=1e4, damp_min=1e-3,\n",
    "    stop_threshold=1e-2\n",
    ")\n",
    "# solve ocpj\n",
    "ts, xs, us, Js = solver.solve(result= True, log=True)"
   ]
  },
  {
   "cell_type": "code",
   "execution_count": null,
   "metadata": {},
   "outputs": [],
   "source": [
    "tval = 0.0\n",
    "xval = np.random.random(len(x))\n",
    "\n",
    "df, dl = ocp.get_derivatives()\n",
    "lfxx_numba = dl[-1]\n",
    "lfxx_numba(xval, tval)"
   ]
  },
  {
   "cell_type": "code",
   "execution_count": null,
   "metadata": {},
   "outputs": [],
   "source": []
  }
 ],
 "metadata": {
  "kernelspec": {
   "display_name": "Python 3",
   "language": "python",
   "name": "python3"
  },
  "language_info": {
   "codemirror_mode": {
    "name": "ipython",
    "version": 3
   },
   "file_extension": ".py",
   "mimetype": "text/x-python",
   "name": "python",
   "nbconvert_exporter": "python",
   "pygments_lexer": "ipython3",
   "version": "3.10.6"
  },
  "orig_nbformat": 4
 },
 "nbformat": 4,
 "nbformat_minor": 2
}
