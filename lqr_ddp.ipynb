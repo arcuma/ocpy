{
 "cells": [
  {
   "cell_type": "code",
   "execution_count": null,
   "metadata": {},
   "outputs": [],
   "source": [
    "from ocpy import OCP\n",
    "from ocpy import DDPSolver, iLQRSolver\n",
    "from ocpy import symutils\n",
    "\n",
    "import numpy as np\n",
    "import sympy as sym\n",
    "\n",
    "# Dimensions of state and input\n",
    "n_x = 2\n",
    "n_u = 1\n",
    "sim_name = 'lqr'\n",
    "\n",
    "# Define ocp class\n",
    "ocp = OCP(sim_name, 2, 1)\n",
    "\n",
    "# Get symbols\n",
    "x = ocp.get_x()\n",
    "u = ocp.get_u()\n",
    "t = ocp.get_t()\n",
    "\n",
    "# State space expression.\n",
    "f = ocp.get_zero_vector(n_x)\n",
    "A = np.array([[1.1, 2.0],\n",
    "              [0, 0.95]])\n",
    "B = np.array([[0.0],\n",
    "              [0.0787]])\n",
    "# continuous dynamics.\n",
    "# A = np.array([[1.0, 20],\n",
    "#               [0.0, -0.5]])\n",
    "# B = np.array([[0.0],\n",
    "#               [0.787]])\n",
    "C = np.array([[-2.0, 1.0]])\n",
    "f = A * x + B * u\n",
    "\n",
    "# cost function\n",
    "Q = C.T @ C\n",
    "R = np.eye(1)\n",
    "l =  0.5 * (x.T * Q * x + u.T * R * u )\n",
    "lf = 0.5 * (x.T * Q * x)\n",
    "\n",
    "# initial condition.\n",
    "t0 = 0.0\n",
    "x0 = np.array([3.0, 1.0])\n",
    "\n",
    "# horizon length and discretization grids.\n",
    "T = 3.0\n",
    "N = 30\n",
    "\n",
    "# define ocp\n",
    "ocp.define_unconstrained(f, l, lf, t0, x0, T, N, is_continuous=False)\n",
    "\n",
    "# solver\n",
    "# solver = DDPSolver(ocp)\n",
    "solver = iLQRSolver(ocp)\n",
    "\n",
    "# initial guess\n",
    "us_guess = np.zeros((N, n_u))\n",
    "solver.set_guess(us_guess=us_guess)\n"
   ]
  },
  {
   "cell_type": "code",
   "execution_count": null,
   "metadata": {},
   "outputs": [],
   "source": [
    "# set parameters\n",
    "solver.set_regularization_coeff(\n",
    "    gamma_init=0.0, rho_gamma=1.0, gamma_min=0.0, gamma_max=0.0\n",
    ")\n",
    "\n",
    "# solve\n",
    "xs, us, ts, is_success = solver.solve(\n",
    "    result=True, log=True, plot=True\n",
    ")\n"
   ]
  },
  {
   "cell_type": "code",
   "execution_count": null,
   "metadata": {},
   "outputs": [],
   "source": [
    "print('xs\\n', xs)\n",
    "print('us\\n', us)"
   ]
  },
  {
   "cell_type": "code",
   "execution_count": null,
   "metadata": {},
   "outputs": [],
   "source": [
    "import matplotlib.pyplot as plt\n",
    "import math\n",
    "\n",
    "result = solver.get_result()\n",
    "\n",
    "gamma_hist = result['gamma_hist']\n",
    "plt.plot(gamma_hist)\n",
    "plt.title('gamma')\n",
    "plt.show()\n",
    "\n",
    "alpha_hist = result['alpha_hist']\n",
    "plt.plot(alpha_hist)\n",
    "plt.title('alpha')\n",
    "plt.show()\n",
    "print('average alpha:',sum(alpha_hist / (len(alpha_hist) - 1)))\n",
    "\n",
    "cost_hist = result['cost_hist']\n",
    "plt.plot(cost_hist)\n",
    "plt.title('cost')\n",
    "plt.show()\n"
   ]
  },
  {
   "cell_type": "code",
   "execution_count": null,
   "metadata": {},
   "outputs": [],
   "source": []
  }
 ],
 "metadata": {
  "kernelspec": {
   "display_name": "Python 3",
   "language": "python",
   "name": "python3"
  },
  "language_info": {
   "codemirror_mode": {
    "name": "ipython",
    "version": 3
   },
   "file_extension": ".py",
   "mimetype": "text/x-python",
   "name": "python",
   "nbconvert_exporter": "python",
   "pygments_lexer": "ipython3",
   "version": "3.10.12"
  },
  "orig_nbformat": 4
 },
 "nbformat": 4,
 "nbformat_minor": 2
}
