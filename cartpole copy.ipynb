{
 "cells": [
  {
   "cell_type": "code",
   "execution_count": 1,
   "metadata": {},
   "outputs": [],
   "source": [
    "from ocpy.ddp import DDPSolver\n",
    "from ocpy.ocp import OCP\n",
    "from ocpy import symutils\n",
    "import numpy as np\n",
    "import sympy as sym\n",
    "from sympy import sin, cos, tan, exp, log, ln, sinh, cosh, tanh, diff, sqrt\n",
    "\n",
    "# import warnings\n",
    "# warnings.filterwarnings('error')\n"
   ]
  },
  {
   "cell_type": "code",
   "execution_count": 2,
   "metadata": {},
   "outputs": [],
   "source": [
    "# dimensions of state and input\n",
    "n_x = 4\n",
    "n_u = 1\n",
    "sim_name = 'cartpole'\n",
    "# define ocp class\n",
    "ocp = OCP(n_x, n_u, sim_name)\n",
    "# get symbols\n",
    "t = ocp.get_t()\n",
    "x = ocp.get_x()\n",
    "u = ocp.get_u()"
   ]
  },
  {
   "cell_type": "code",
   "execution_count": 3,
   "metadata": {},
   "outputs": [],
   "source": [
    "# symbolic expressions of constants.\n",
    "m_c, m_p, l, g, u_min, u_max, u_eps = ocp.define_scalar_constants(\n",
    "         [('m_c', 2), ('m_p', 0.1), ('l', 0.5), ('g', 9.80665), \n",
    "          ('u_min', -15),  ('u_max', 15), ('u_eps', 0.001)]\n",
    "          )\n",
    "# cost weight\n",
    "q = ocp.define_vector_constant('q', [2.5, 10, 0.01, 0.01])\n",
    "r = ocp.define_vector_constant('r', [1])\n",
    "q_f = ocp.define_vector_constant('q_f', [2.5, 10, 0.01, 0.01])\n",
    "Q = sym.diag(*q)\n",
    "Qf = sym.diag(*q_f)\n",
    "R = sym.diag(*r)\n",
    "# reference state. \n",
    "x_ref = ocp.define_vector_constant('x_ref', [0, np.pi, 0, 0])\n"
   ]
  },
  {
   "cell_type": "code",
   "execution_count": 4,
   "metadata": {},
   "outputs": [
    {
     "data": {
      "text/latex": [
       "$\\displaystyle \\left[\\begin{matrix}x[2]\\\\x[3]\\\\\\frac{m_{p} \\left(g \\cos{\\left(x[1] \\right)} + l x[1]^{2}\\right) \\sin{\\left(x[1] \\right)} + u[0]}{m_{c} + m_{p} \\sin^{2}{\\left(x[1] \\right)}}\\\\\\frac{- g \\left(m_{c} + m_{p}\\right) \\sin{\\left(x[1] \\right)} - l m_{p} x[1]^{2} \\sin{\\left(x[1] \\right)} \\cos{\\left(x[1] \\right)} - u[0] \\cos{\\left(x[1] \\right)}}{l \\left(m_{c} + m_{p} \\sin^{2}{\\left(x[1] \\right)}\\right)}\\end{matrix}\\right]$"
      ],
      "text/plain": [
       "Matrix([\n",
       "[                                                                                                        x[2]],\n",
       "[                                                                                                        x[3]],\n",
       "[                                   (m_p*(g*cos(x[1]) + l*x[1]**2)*sin(x[1]) + u[0])/(m_c + m_p*sin(x[1])**2)],\n",
       "[(-g*(m_c + m_p)*sin(x[1]) - l*m_p*x[1]**2*sin(x[1])*cos(x[1]) - u[0]*cos(x[1]))/(l*(m_c + m_p*sin(x[1])**2))]])"
      ]
     },
     "metadata": {},
     "output_type": "display_data"
    },
    {
     "data": {
      "text/latex": [
       "$\\displaystyle \\left[\\begin{matrix}q[0] \\left(x[0] - x_{ref[0]}\\right)^{2} + q[1] \\left(x[1] - x_{ref[1]}\\right)^{2} + q[2] \\left(x[2] - x_{ref[2]}\\right)^{2} + q[3] \\left(x[3] - x_{ref[3]}\\right)^{2} + r[0] u[0]^{2} - 1.0 \\cdot 10^{-5} \\log{\\left(- u[0] + u_{max} \\right)} - 1.0 \\cdot 10^{-5} \\log{\\left(u[0] - u_{min} \\right)}\\end{matrix}\\right]$"
      ],
      "text/plain": [
       "Matrix([[q[0]*(x[0] - x_ref[0])**2 + q[1]*(x[1] - x_ref[1])**2 + q[2]*(x[2] - x_ref[2])**2 + q[3]*(x[3] - x_ref[3])**2 + r[0]*u[0]**2 - 1.0e-5*log(-u[0] + u_max) - 1.0e-5*log(u[0] - u_min)]])"
      ]
     },
     "metadata": {},
     "output_type": "display_data"
    },
    {
     "data": {
      "text/latex": [
       "$\\displaystyle \\left[\\begin{matrix}10 q_{f[0]} \\left(x[0] - x_{ref[0]}\\right)^{2} + 10 q_{f[1]} \\left(x[1] - x_{ref[1]}\\right)^{2} + 10 q_{f[2]} \\left(x[2] - x_{ref[2]}\\right)^{2} + 10 q_{f[3]} \\left(x[3] - x_{ref[3]}\\right)^{2}\\end{matrix}\\right]$"
      ],
      "text/plain": [
       "Matrix([[10*q_f[0]*(x[0] - x_ref[0])**2 + 10*q_f[1]*(x[1] - x_ref[1])**2 + 10*q_f[2]*(x[2] - x_ref[2])**2 + 10*q_f[3]*(x[3] - x_ref[3])**2]])"
      ]
     },
     "metadata": {},
     "output_type": "display_data"
    }
   ],
   "source": [
    "# state of equation.\n",
    "f = ocp.zero_vector(n_x)\n",
    "f[0] = x[2]\n",
    "f[1] = x[3]\n",
    "f[2] = (u[0] + m_p*sin(x[1])*(l*x[1]*x[1] + g*cos(x[1])) )/( m_c+m_p*sin(x[1])*sin(x[1]) )\n",
    "f[3] = (-u[0] * cos(x[1]) - m_p*l*x[1]*x[1]*cos(x[1])*sin(x[1]) \n",
    "        - (m_c+m_p)*g*sin(x[1]) )/( l*(m_c + m_p*sin(x[1])*sin(x[1])))\n",
    "# log barrier for control limits.\n",
    "u_barrier = sum(-ln(u[i] - u_min) - ln(u_max - u[i]) for i in range(n_u)) * 1e-5\n",
    "# stage cost and terminal cost.\n",
    "l = (x - x_ref).T * Q * (x - x_ref) + u.T * R * u + sym.Matrix([u_barrier])\n",
    "lf = (x - x_ref).T * Qf * (x - x_ref) * 10\n",
    "# display state equation and cost function\n",
    "display(f)\n",
    "display(l)\n",
    "display(lf)\n"
   ]
  },
  {
   "cell_type": "code",
   "execution_count": null,
   "metadata": {},
   "outputs": [],
   "source": [
    "\n"
   ]
  },
  {
   "cell_type": "code",
   "execution_count": 5,
   "metadata": {},
   "outputs": [],
   "source": [
    "# horizon length and discretization grids.\n",
    "T = 5.0\n",
    "N = 200\n",
    "# initial condition\n",
    "t0 = 0.0\n",
    "x0 = np.array([0.0, 0.0, 0.0, 0.0])\n",
    "us_guess = np.zeros((N, n_u))\n",
    "# define ocp\n",
    "ocp.define(f, l, lf, T, N, t0, x0, us_guess, True, False)\n"
   ]
  },
  {
   "cell_type": "code",
   "execution_count": 6,
   "metadata": {},
   "outputs": [
    {
     "data": {
      "text/latex": [
       "$\\displaystyle \\left[\\begin{matrix}\\left[\\begin{matrix}1 & 0 & 0\\\\0 & 0 & 0\\end{matrix}\\right] & \\left[\\begin{matrix}0 & 0 & 0\\\\0 & 0 & 0\\end{matrix}\\right] & \\left[\\begin{matrix}0 & 0 & 0\\\\0 & 0 & 0\\end{matrix}\\right] & \\left[\\begin{matrix}0 & 0 & 0\\\\0 & 0 & 0\\end{matrix}\\right]\\end{matrix}\\right]$"
      ],
      "text/plain": [
       "[[[1, 0, 0], [0, 0, 0]], [[0, 0, 0], [0, 0, 0]], [[0, 0, 0], [0, 0, 0]], [[0, 0, 0], [0, 0, 0]]]"
      ]
     },
     "metadata": {},
     "output_type": "display_data"
    },
    {
     "data": {
      "text/latex": [
       "$\\displaystyle \\left( 4, \\  2, \\  3\\right)$"
      ],
      "text/plain": [
       "(4, 2, 3)"
      ]
     },
     "metadata": {},
     "output_type": "display_data"
    },
    {
     "data": {
      "text/latex": [
       "$\\displaystyle \\left[\\begin{matrix}\\left[\\begin{matrix}1 & 0 & 0 & 0\\\\0 & 0 & 0 & 0\\\\0 & 0 & 0 & 0\\end{matrix}\\right] & \\left[\\begin{matrix}0 & 0 & 0 & 0\\\\0 & 0 & 0 & 0\\\\0 & 0 & 0 & 0\\end{matrix}\\right]\\end{matrix}\\right]$"
      ],
      "text/plain": [
       "[[[1, 0, 0, 0], [0, 0, 0, 0], [0, 0, 0, 0]], [[0, 0, 0, 0], [0, 0, 0, 0], [0, 0, 0, 0]]]"
      ]
     },
     "metadata": {},
     "output_type": "display_data"
    },
    {
     "data": {
      "text/latex": [
       "$\\displaystyle \\left( 2, \\  3, \\  4\\right)$"
      ],
      "text/plain": [
       "(2, 3, 4)"
      ]
     },
     "metadata": {},
     "output_type": "display_data"
    },
    {
     "data": {
      "text/latex": [
       "$\\displaystyle \\left[\\begin{matrix}x[0] & 1.0 & 1.0\\\\1.0 & 1.0 & 1.0\\end{matrix}\\right]$"
      ],
      "text/plain": [
       "Matrix([\n",
       "[x[0], 1.0, 1.0],\n",
       "[ 1.0, 1.0, 1.0]])"
      ]
     },
     "metadata": {},
     "output_type": "display_data"
    },
    {
     "data": {
      "text/plain": [
       "'Mx:'"
      ]
     },
     "metadata": {},
     "output_type": "display_data"
    },
    {
     "data": {
      "text/plain": [
       "(1, 4, 2, 3)"
      ]
     },
     "metadata": {},
     "output_type": "display_data"
    },
    {
     "data": {
      "text/latex": [
       "$\\displaystyle \\left[\\left[\\begin{matrix}\\left[\\begin{matrix}1 & 0 & 0\\\\0 & 0 & 0\\end{matrix}\\right] & \\left[\\begin{matrix}0 & 0 & 0\\\\0 & 0 & 0\\end{matrix}\\right] & \\left[\\begin{matrix}0 & 0 & 0\\\\0 & 0 & 0\\end{matrix}\\right] & \\left[\\begin{matrix}0 & 0 & 0\\\\0 & 0 & 0\\end{matrix}\\right]\\end{matrix}\\right]\\right]$"
      ],
      "text/plain": [
       "[[[[1, 0, 0], [0, 0, 0]], [[0, 0, 0], [0, 0, 0]], [[0, 0, 0], [0, 0, 0]], [[0, 0, 0], [0, 0, 0]]]]"
      ]
     },
     "metadata": {},
     "output_type": "display_data"
    },
    {
     "data": {
      "text/plain": [
       "'Mu:'"
      ]
     },
     "metadata": {},
     "output_type": "display_data"
    },
    {
     "data": {
      "text/plain": [
       "(1, 1, 2, 3)"
      ]
     },
     "metadata": {},
     "output_type": "display_data"
    },
    {
     "data": {
      "text/latex": [
       "$\\displaystyle \\left[\\left[\\begin{matrix}\\left[\\begin{matrix}0 & 0 & 0\\\\0 & 0 & 0\\end{matrix}\\right]\\end{matrix}\\right]\\right]$"
      ],
      "text/plain": [
       "[[[[0, 0, 0], [0, 0, 0]]]]"
      ]
     },
     "metadata": {},
     "output_type": "display_data"
    }
   ],
   "source": [
    "\n",
    "M = sym.Matrix(np.ones((2, 3), dtype=float))\n",
    "M[0, 0] = x[0] #+ u[0]\n",
    "Mx = symutils.diff_matrix(M, x)\n",
    "Mx2 = symutils.diff_matrix_2(M, x)\n",
    "display(Mx, Mx.shape)\n",
    "display(Mx2, Mx2.shape)\n",
    "display(M)\n",
    "\n",
    "x_array = sym.MutableDenseNDimArray(x.T)[0]\n",
    "u_array = sym.MutableDenseNDimArray(u.T)[0]\n",
    "\n",
    "# fx = symutils.diff_vector(f, x)\n",
    "# # fx = sym.Matrix(np.ones((4, 4), dtype=float))\n",
    "# display('fx', fx)\n",
    "# fxx = symutils.diff_matrix(fx, x)\n",
    "# display('fxx', fxx)\n",
    "Mx = sym.diff(M, x.T)\n",
    "Mu = sym.diff(M, u.T)\n",
    "\n",
    "display('Mx:', Mx.shape, Mx)\n",
    "display('Mu:', Mu.shape, Mu)\n"
   ]
  },
  {
   "cell_type": "markdown",
   "metadata": {},
   "source": []
  },
  {
   "cell_type": "code",
   "execution_count": 7,
   "metadata": {},
   "outputs": [
    {
     "data": {
      "text/latex": [
       "$\\displaystyle \\left( 4, \\  4, \\  1\\right)$"
      ],
      "text/plain": [
       "(4, 4, 1)"
      ]
     },
     "metadata": {},
     "output_type": "display_data"
    },
    {
     "data": {
      "text/latex": [
       "$\\displaystyle \\left( 1, \\  4, \\  1\\right)$"
      ],
      "text/plain": [
       "(1, 4, 1)"
      ]
     },
     "metadata": {},
     "output_type": "display_data"
    },
    {
     "data": {
      "text/latex": [
       "$\\displaystyle \\left[\\begin{matrix}\\left[\\begin{matrix}0\\\\0\\\\0\\\\0\\end{matrix}\\right]\\end{matrix}\\right]$"
      ],
      "text/plain": [
       "[[[0], [0], [0], [0]]]"
      ]
     },
     "metadata": {},
     "output_type": "display_data"
    }
   ],
   "source": [
    "df, dl = ocp.get_symbolic_derivatives()\n",
    "fu = df[2]\n",
    "fux = df[4]\n",
    "fuu = df[5]\n",
    "display(fux.shape)\n",
    "display(fuu.shape)\n",
    "display(fuu)"
   ]
  },
  {
   "cell_type": "code",
   "execution_count": 8,
   "metadata": {},
   "outputs": [],
   "source": [
    "# hand over ocp to solver.\n",
    "solver = DDPSolver(ocp)"
   ]
  },
  {
   "cell_type": "code",
   "execution_count": 9,
   "metadata": {},
   "outputs": [
    {
     "name": "stdout",
     "output_type": "stream",
     "text": [
      "iter: 0\n",
      "DeltaV:  -954.6388177522075\n",
      "iter: 1\n",
      "DeltaV:  -32800.64701953175\n",
      "iter: 2\n",
      "DeltaV:  -2187.664091511846\n",
      "iter: 3\n"
     ]
    },
    {
     "name": "stderr",
     "output_type": "stream",
     "text": [
      "<lambdifygenerated-7>:4: RuntimeWarning: invalid value encountered in log\n",
      "  return 0.00025*Dummy_78**2 + 0.00025*Dummy_79**2 + 0.0625*Dummy_81**2 + 0.025*Dummy_82**2 + 2.46740110027234*(0.318309886183791*Dummy_80 - 1)**2 - 2.5e-7*log(15 - Dummy_82) - 2.5e-7*log(Dummy_82 + 15)\n",
      "<lambdifygenerated-7>:4: RuntimeWarning: overflow encountered in scalar power\n",
      "  return 0.00025*Dummy_78**2 + 0.00025*Dummy_79**2 + 0.0625*Dummy_81**2 + 0.025*Dummy_82**2 + 2.46740110027234*(0.318309886183791*Dummy_80 - 1)**2 - 2.5e-7*log(15 - Dummy_82) - 2.5e-7*log(Dummy_82 + 15)\n",
      "<lambdifygenerated-1>:4: RuntimeWarning: overflow encountered in scalar power\n",
      "  return numpy.array((0.025*_Dummy_37 + _Dummy_39, 0.025*_Dummy_36 + _Dummy_38, _Dummy_37 + 0.025*(_Dummy_40 + 0.1*(0.5*_Dummy_38**2 + 9.80665*cos(_Dummy_38))*sin(_Dummy_38))/(0.1*sin(_Dummy_38)**2 + 2), _Dummy_36 + 0.05*(-0.05*_Dummy_38**2*sin(_Dummy_38)*cos(_Dummy_38) - _Dummy_40*cos(_Dummy_38) - 20.593965*sin(_Dummy_38))/(0.1*sin(_Dummy_38)**2 + 2)))\n",
      "/home/ohtsukalab/src/ocpy/ocpy/ddp.py:367: RuntimeWarning: invalid value encountered in matmul\n",
      "  us_new[i] = us[i] + alpha * ks[i] + Ks[i] @ (xs_new[i] - xs[i])\n",
      "<lambdifygenerated-1>:4: RuntimeWarning: invalid value encountered in cos\n",
      "  return numpy.array((0.025*_Dummy_37 + _Dummy_39, 0.025*_Dummy_36 + _Dummy_38, _Dummy_37 + 0.025*(_Dummy_40 + 0.1*(0.5*_Dummy_38**2 + 9.80665*cos(_Dummy_38))*sin(_Dummy_38))/(0.1*sin(_Dummy_38)**2 + 2), _Dummy_36 + 0.05*(-0.05*_Dummy_38**2*sin(_Dummy_38)*cos(_Dummy_38) - _Dummy_40*cos(_Dummy_38) - 20.593965*sin(_Dummy_38))/(0.1*sin(_Dummy_38)**2 + 2)))\n",
      "<lambdifygenerated-1>:4: RuntimeWarning: invalid value encountered in sin\n",
      "  return numpy.array((0.025*_Dummy_37 + _Dummy_39, 0.025*_Dummy_36 + _Dummy_38, _Dummy_37 + 0.025*(_Dummy_40 + 0.1*(0.5*_Dummy_38**2 + 9.80665*cos(_Dummy_38))*sin(_Dummy_38))/(0.1*sin(_Dummy_38)**2 + 2), _Dummy_36 + 0.05*(-0.05*_Dummy_38**2*sin(_Dummy_38)*cos(_Dummy_38) - _Dummy_40*cos(_Dummy_38) - 20.593965*sin(_Dummy_38))/(0.1*sin(_Dummy_38)**2 + 2)))\n"
     ]
    },
    {
     "name": "stdout",
     "output_type": "stream",
     "text": [
      "DeltaV:  -99889.21374291464\n",
      "iter: 4\n",
      "DeltaV:  -79868.04823796045\n",
      "iter: 5\n",
      "DeltaV:  -75080.1226867491\n"
     ]
    },
    {
     "name": "stderr",
     "output_type": "stream",
     "text": [
      "<lambdifygenerated-1>:4: RuntimeWarning: invalid value encountered in scalar add\n",
      "  return numpy.array((0.025*_Dummy_37 + _Dummy_39, 0.025*_Dummy_36 + _Dummy_38, _Dummy_37 + 0.025*(_Dummy_40 + 0.1*(0.5*_Dummy_38**2 + 9.80665*cos(_Dummy_38))*sin(_Dummy_38))/(0.1*sin(_Dummy_38)**2 + 2), _Dummy_36 + 0.05*(-0.05*_Dummy_38**2*sin(_Dummy_38)*cos(_Dummy_38) - _Dummy_40*cos(_Dummy_38) - 20.593965*sin(_Dummy_38))/(0.1*sin(_Dummy_38)**2 + 2)))\n",
      "<lambdifygenerated-1>:4: RuntimeWarning: invalid value encountered in scalar subtract\n",
      "  return numpy.array((0.025*_Dummy_37 + _Dummy_39, 0.025*_Dummy_36 + _Dummy_38, _Dummy_37 + 0.025*(_Dummy_40 + 0.1*(0.5*_Dummy_38**2 + 9.80665*cos(_Dummy_38))*sin(_Dummy_38))/(0.1*sin(_Dummy_38)**2 + 2), _Dummy_36 + 0.05*(-0.05*_Dummy_38**2*sin(_Dummy_38)*cos(_Dummy_38) - _Dummy_40*cos(_Dummy_38) - 20.593965*sin(_Dummy_38))/(0.1*sin(_Dummy_38)**2 + 2)))\n"
     ]
    },
    {
     "name": "stdout",
     "output_type": "stream",
     "text": [
      "iter: 6\n",
      "DeltaV:  -2239.406802905032\n",
      "iter: 7\n",
      "DeltaV:  -200.72302783317807\n",
      "iter: 8\n",
      "DeltaV:  -186.86730755412776\n",
      "iter: 9\n",
      "DeltaV:  -231.31689756993927\n",
      "iter: 10\n",
      "DeltaV:  -589.70111744026\n",
      "iter: 11\n",
      "DeltaV:  -147488.51737093495\n",
      "iter: 12\n",
      "DeltaV:  -2520.309735183453\n",
      "iter: 13\n",
      "DeltaV:  -1804.7157682145137\n",
      "iter: 14\n",
      "DeltaV:  -245.67362246030746\n",
      "iter: 15\n",
      "DeltaV:  -147.7326847257277\n",
      "iter: 16\n",
      "DeltaV:  -43.596174688849786\n",
      "iter: 17\n",
      "DeltaV:  -16.821959407051462\n",
      "iter: 18\n",
      "DeltaV:  -16.122082494846072\n",
      "iter: 19\n",
      "DeltaV:  -8.070539892384135\n",
      "iter: 20\n",
      "DeltaV:  -4.6344915136395946\n",
      "iter: 21\n",
      "DeltaV:  -4.375363495907467\n",
      "iter: 22\n",
      "DeltaV:  -7.580783348041357\n",
      "iter: 23\n",
      "DeltaV:  -10.399343551301817\n",
      "iter: 24\n",
      "DeltaV:  -4.046278428923658\n",
      "iter: 25\n",
      "DeltaV:  -5.659518469823353\n",
      "iter: 26\n",
      "DeltaV:  -6.355411796519032\n",
      "iter: 27\n",
      "DeltaV:  -22.53504774001876\n",
      "iter: 28\n",
      "DeltaV:  -2.5237330628506123\n",
      "iter: 29\n",
      "DeltaV:  -2.700479105601096\n",
      "iter: 30\n",
      "DeltaV:  -3.1850962848390236\n",
      "iter: 31\n",
      "DeltaV:  -2.4275773553525672\n",
      "iter: 32\n",
      "DeltaV:  -2.5234938959668165\n",
      "iter: 33\n",
      "DeltaV:  -3.4950780978085527\n",
      "iter: 34\n",
      "DeltaV:  -5.880744475884096\n",
      "iter: 35\n",
      "DeltaV:  -2.328024131435493\n",
      "iter: 36\n",
      "DeltaV:  -2.442659450385139\n",
      "iter: 37\n",
      "DeltaV:  -4.082810075530979\n",
      "iter: 38\n",
      "DeltaV:  -11.847046939044079\n",
      "iter: 39\n",
      "DeltaV:  -2.3150421693157037\n",
      "iter: 40\n",
      "DeltaV:  -2.830273541350334\n",
      "iter: 41\n",
      "DeltaV:  -2.193866531611156\n",
      "iter: 42\n",
      "DeltaV:  -2.5899509985349414\n",
      "iter: 43\n",
      "DeltaV:  -2.0118694077846664\n",
      "iter: 44\n",
      "DeltaV:  -2.1969132037039913\n",
      "iter: 45\n",
      "DeltaV:  -1.8339044602297876\n",
      "iter: 46\n",
      "DeltaV:  -1.8214659478894788\n",
      "iter: 47\n",
      "DeltaV:  -1.8124529401899114\n",
      "iter: 48\n",
      "DeltaV:  -1.8216161282842775\n",
      "iter: 49\n",
      "DeltaV:  -1.8243776668233895\n",
      "iter: 50\n",
      "DeltaV:  -1.8949407172172188\n",
      "iter: 51\n",
      "DeltaV:  -1.9554631605601487\n",
      "iter: 52\n",
      "DeltaV:  -2.765787785627824\n",
      "iter: 53\n",
      "DeltaV:  -5.26242057893882\n",
      "iter: 54\n",
      "DeltaV:  -2.2671090620126515\n",
      "iter: 55\n",
      "DeltaV:  -2.9870427038789376\n",
      "iter: 56\n",
      "DeltaV:  -2.5395728648846174\n",
      "iter: 57\n",
      "DeltaV:  -3.70953743514777\n",
      "iter: 58\n",
      "DeltaV:  -4.083980111946035\n",
      "iter: 59\n",
      "DeltaV:  -26.024398436198215\n",
      "iter: 60\n",
      "DeltaV:  -2.9573478789386174\n",
      "iter: 61\n",
      "DeltaV:  -5.430130338006572\n",
      "iter: 62\n",
      "DeltaV:  -2.2639216640140005\n",
      "iter: 63\n",
      "DeltaV:  -2.554443110706919\n",
      "iter: 64\n",
      "DeltaV:  -2.0376734692189467\n",
      "iter: 65\n",
      "DeltaV:  -2.0003949900640636\n",
      "iter: 66\n",
      "DeltaV:  -2.454945598447214\n",
      "iter: 67\n",
      "DeltaV:  -3.4801381978533783\n",
      "iter: 68\n",
      "DeltaV:  -4.08273125011822\n",
      "iter: 69\n",
      "DeltaV:  73.9670835038133\n",
      "iter: 70\n",
      "DeltaV:  73.96708350387672\n",
      "iter: 71\n",
      "DeltaV:  73.967083503919\n",
      "iter: 72\n",
      "DeltaV:  73.96708350392075\n",
      "iter: 73\n",
      "DeltaV:  73.96708350447653\n",
      "iter: 74\n",
      "DeltaV:  73.96708351118247\n",
      "iter: 75\n",
      "DeltaV:  73.96708357796588\n",
      "iter: 76\n",
      "DeltaV:  73.9670842441952\n",
      "iter: 77\n",
      "DeltaV:  73.96709090725042\n",
      "iter: 78\n",
      "DeltaV:  73.96715753570219\n",
      "iter: 79\n",
      "DeltaV:  73.96782376239862\n",
      "iter: 80\n",
      "DeltaV:  73.97448008689399\n",
      "iter: 81\n",
      "DeltaV:  74.04043160048856\n",
      "iter: 82\n",
      "DeltaV:  74.61735832427067\n",
      "iter: 83\n",
      "DeltaV:  -2.5498520757958074\n",
      "iter: 84\n",
      "DeltaV:  -48.95428305872341\n",
      "iter: 85\n",
      "DeltaV:  -2.984748192009535\n",
      "iter: 86\n",
      "DeltaV:  -7.275925026763073\n",
      "iter: 87\n",
      "DeltaV:  -1.6227863826994262\n",
      "iter: 88\n",
      "DeltaV:  -1.6748595791697645\n",
      "iter: 89\n",
      "DeltaV:  -1.7503008749525095\n",
      "iter: 90\n",
      "DeltaV:  -3.102983941496283\n",
      "iter: 91\n",
      "DeltaV:  -15.057750370759106\n",
      "iter: 92\n",
      "DeltaV:  -1.6214812618763068\n",
      "iter: 93\n",
      "DeltaV:  -1.6630939065431283\n",
      "iter: 94\n",
      "DeltaV:  -1.7050693252928988\n",
      "iter: 95\n",
      "DeltaV:  -1.7771025415996102\n",
      "iter: 96\n",
      "DeltaV:  -1.8379346394524754\n",
      "iter: 97\n",
      "DeltaV:  -2.069893061942423\n",
      "iter: 98\n",
      "DeltaV:  -2.4188906287927185\n",
      "iter: 99\n",
      "DeltaV:  -2.0337357658520716\n",
      "iter: 100\n",
      "DeltaV:  -2.094286665840067\n",
      "iter: 101\n",
      "DeltaV:  -2.3209355448788367\n",
      "iter: 102\n",
      "DeltaV:  -2.6149281238498796\n",
      "iter: 103\n",
      "DeltaV:  -2.1353642856427317\n",
      "iter: 104\n",
      "DeltaV:  -2.084858707707638\n",
      "iter: 105\n",
      "DeltaV:  -2.1375556772143063\n",
      "iter: 106\n",
      "DeltaV:  -2.1818751333870057\n",
      "iter: 107\n",
      "DeltaV:  -4.478120245408822\n",
      "iter: 108\n",
      "DeltaV:  405.19089817728343\n",
      "iter: 109\n",
      "DeltaV:  404.9697604407283\n",
      "iter: 110\n",
      "DeltaV:  402.67214864912506\n",
      "iter: 111\n",
      "DeltaV:  382.9336913829336\n",
      "iter: 112\n",
      "DeltaV:  263.8757008045966\n",
      "iter: 113\n",
      "DeltaV:  92.51698993763529\n",
      "iter: 114\n",
      "DeltaV:  53.45552034563451\n",
      "iter: 115\n",
      "DeltaV:  -139.50015922119482\n",
      "iter: 116\n",
      "DeltaV:  -1.5408700475234622\n",
      "iter: 117\n",
      "DeltaV:  -1.4500558176890734\n",
      "iter: 118\n",
      "DeltaV:  -1.7882658142998489\n",
      "iter: 119\n",
      "DeltaV:  -2.559306135970665\n",
      "iter: 120\n",
      "DeltaV:  -1.1139013162501874\n",
      "iter: 121\n",
      "DeltaV:  -1.0870062412472778\n",
      "iter: 122\n",
      "DeltaV:  -1.0869804115239805\n",
      "iter: 123\n",
      "DeltaV:  -1.8282965360473358\n",
      "iter: 124\n",
      "DeltaV:  -5.8248780039072185\n",
      "iter: 125\n",
      "DeltaV:  -1.2182734160683875\n",
      "iter: 126\n",
      "DeltaV:  -2.0644525675958985\n",
      "iter: 127\n",
      "DeltaV:  -0.890129243380536\n",
      "iter: 128\n",
      "DeltaV:  -0.9128982693157836\n",
      "iter: 129\n",
      "DeltaV:  -0.9853641932524373\n",
      "iter: 130\n",
      "DeltaV:  -1.1044974586637308\n",
      "iter: 131\n",
      "DeltaV:  -2.071260281168398\n",
      "iter: 132\n",
      "DeltaV:  -16.275986461014156\n",
      "iter: 133\n",
      "DeltaV:  -2.3120127014089262\n",
      "iter: 134\n",
      "DeltaV:  -17.036272241437306\n",
      "iter: 135\n",
      "DeltaV:  -2.0574826029329065\n",
      "iter: 136\n",
      "DeltaV:  -4.445727088395639\n",
      "iter: 137\n",
      "DeltaV:  -2.020481716566637\n",
      "iter: 138\n",
      "DeltaV:  -2.811028163697693\n",
      "iter: 139\n",
      "DeltaV:  -2.431421122418706\n",
      "iter: 140\n",
      "DeltaV:  -3.4598799420682953\n",
      "iter: 141\n",
      "DeltaV:  -3.2172581896296624\n",
      "iter: 142\n",
      "DeltaV:  -6.298623609756841\n",
      "iter: 143\n",
      "DeltaV:  -2.6041308323571637\n",
      "iter: 144\n",
      "DeltaV:  -3.4968320178516485\n",
      "iter: 145\n",
      "DeltaV:  -3.7169913013863454\n",
      "iter: 146\n",
      "DeltaV:  -16.986949942566216\n",
      "iter: 147\n",
      "DeltaV:  -1.3836749649651634\n",
      "iter: 148\n",
      "DeltaV:  -1.4103507095069554\n",
      "iter: 149\n",
      "DeltaV:  -0.9082639879267446\n",
      "iter: 150\n",
      "DeltaV:  -0.8556387680119438\n",
      "iter: 151\n",
      "DeltaV:  -0.5241362201056267\n",
      "iter: 152\n",
      "DeltaV:  -0.43152220569946076\n",
      "iter: 153\n",
      "DeltaV:  -0.6199224281292549\n",
      "iter: 154\n",
      "DeltaV:  -0.6199595877500965\n",
      "iter: 155\n",
      "DeltaV:  -0.1717973283024631\n",
      "iter: 156\n",
      "DeltaV:  -0.1326899977876318\n",
      "iter: 157\n",
      "DeltaV:  -0.10091214508917999\n",
      "iter: 158\n",
      "DeltaV:  -0.0975018533525129\n",
      "--- RESULT ---\n",
      "status: success\n",
      "iteration: 158\n",
      "cost value: 280.7334179115707\n",
      "computational time: 7.308343262000562\n",
      "--------------\n",
      "Data are saved at /home/ohtsukalab/src/ocpy/log/cartpole .\n"
     ]
    },
    {
     "name": "stderr",
     "output_type": "stream",
     "text": [
      "'created' timestamp seems very low; regarding as unix timestamp\n",
      "'modified' timestamp seems very low; regarding as unix timestamp\n",
      "'created' timestamp seems very low; regarding as unix timestamp\n",
      "'modified' timestamp seems very low; regarding as unix timestamp\n"
     ]
    },
    {
     "name": "stdout",
     "output_type": "stream",
     "text": [
      "Graphs are saved at /home/ohtsukalab/src/ocpy/log/cartpole/result.pdf\n"
     ]
    },
    {
     "data": {
      "image/png": "[encoded data removed]",
      "text/plain": [
       "<Figure size 1620x864 with 6 Axes>"
      ]
     },
     "metadata": {},
     "output_type": "display_data"
    }
   ],
   "source": [
    "# warnings.filterwarnings('error')\n",
    "# warnings.resetwarnings()\n",
    "# candidates of line search steps.\n",
    "alphas = [0.5**i for i in range(8)].append(0)\n",
    "# set solver properties.\n",
    "solver.set_solver_parameters(\n",
    "    max_iter=300, alphas=alphas, damp_init=1e-3, damp_max=1e4, damp_min=1e-3,\n",
    "    stop_threshold=1e-1\n",
    ")\n",
    "# solve ocpj\n",
    "ts, xs, us, Js = solver.solve(result= True, log=True)\n",
    "\n",
    "# damp_fixed = 0\n",
    "# ts, xs, us, Js = solver.solve(\n",
    "#     t0, x0, us_guess, max_iter=300, alphas=0.5**np.arange(1) ,\n",
    "#     damp_init=damp_fixed, damp_min=damp_fixed, damp_max=damp_fixed, result=True, log=True)"
   ]
  },
  {
   "cell_type": "code",
   "execution_count": 10,
   "metadata": {},
   "outputs": [
    {
     "data": {
      "image/png": "[encoded data removed]",
      "text/plain": [
       "<Figure size 1152x648 with 1 Axes>"
      ]
     },
     "metadata": {
      "needs_background": "light"
     },
     "output_type": "display_data"
    }
   ],
   "source": [
    "%matplotlib inline\n",
    "# visualize\n",
    "from ocpy.animator import CartPoleAnimator\n",
    "animator = CartPoleAnimator(solver.get_log_directory(), sim_name)\n",
    "animator.generate_animation(False)\n"
   ]
  },
  {
   "cell_type": "code",
   "execution_count": 11,
   "metadata": {},
   "outputs": [
    {
     "data": {
      "text/plain": [
       "159"
      ]
     },
     "execution_count": 11,
     "metadata": {},
     "output_type": "execute_result"
    }
   ],
   "source": [
    "len(Js)\n"
   ]
  },
  {
   "cell_type": "code",
   "execution_count": 12,
   "metadata": {},
   "outputs": [
    {
     "data": {
      "text/plain": [
       "280.7334179115707"
      ]
     },
     "execution_count": 12,
     "metadata": {},
     "output_type": "execute_result"
    }
   ],
   "source": [
    "Js[-1]"
   ]
  }
 ],
 "metadata": {
  "kernelspec": {
   "display_name": "Python 3",
   "language": "python",
   "name": "python3"
  },
  "language_info": {
   "codemirror_mode": {
    "name": "ipython",
    "version": 3
   },
   "file_extension": ".py",
   "mimetype": "text/x-python",
   "name": "python",
   "nbconvert_exporter": "python",
   "pygments_lexer": "ipython3",
   "version": "3.10.6"
  },
  "orig_nbformat": 4
 },
 "nbformat": 4,
 "nbformat_minor": 2
}
