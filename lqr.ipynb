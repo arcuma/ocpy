{
 "cells": [
  {
   "cell_type": "code",
   "execution_count": null,
   "metadata": {},
   "outputs": [],
   "source": [
    "from ddpython import ddp, symutils\n",
    "import numpy\n",
    "import sympy\n",
    "\n",
    "n_x = 2\n",
    "n_u = 1\n",
    "\n",
    "ddp = ddp.DDP(2, 1, 'lqr')\n",
    "x = ddp.get_x()\n",
    "u = ddp.get_u()\n",
    "t = ddp.get_t()\n",
    "\n",
    "f = ddp.get_f()\n",
    "# A = numpy.array([[1.1, 2.0],\n",
    "#                  [0, 0.95]])\n",
    "# B = numpy.array([[0.0],\n",
    "#                   [0.0787]])\n",
    "A = numpy.array([[1.0, 20],\n",
    "                 [0.0, -0.5]])\n",
    "B = numpy.array([[0.0],\n",
    "                  [0.787]])\n",
    "C = numpy.array([[-2.0, 1.0]])\n",
    "\n",
    "\n",
    "f = A * x + B * u\n",
    "Q = C.T @ C\n",
    "R = numpy.eye(1)\n",
    "\n",
    "L =  0.5 * (x.T * Q * x + u.T * R * u )\n",
    "phi = 0.5 * (x.T * Q * x)\n",
    "\n",
    "# display(Q)\n",
    "# display(f)\n",
    "# display(x + f * 0.1)\n",
    "# display(L)\n",
    "T = 3.0\n",
    "N = 30\n",
    "\n",
    "x0 = numpy.array([3.0, 1.0])\n",
    "u0 = [0.0]\n",
    "us_guess = [u0.copy() for i in range(N)]\n",
    "\n",
    "ddp.defineOCP(f, L, phi, T, N, x0, us_guess)\n",
    "ts, xs, us, J_hist = ddp.solve(x0, us_guess, log=True)\n",
    "# print(xs, us, J)\n",
    "# print(xs)\n"
   ]
  },
  {
   "cell_type": "code",
   "execution_count": null,
   "metadata": {},
   "outputs": [],
   "source": [
    "print(xs)"
   ]
  },
  {
   "cell_type": "code",
   "execution_count": null,
   "metadata": {},
   "outputs": [],
   "source": []
  },
  {
   "cell_type": "code",
   "execution_count": null,
   "metadata": {},
   "outputs": [],
   "source": [
    "\n",
    "display(ddp._F_sym)\n",
    "display(ddp._Fx_sym)\n",
    "display(ddp._l_sym)\n"
   ]
  },
  {
   "cell_type": "code",
   "execution_count": null,
   "metadata": {},
   "outputs": [],
   "source": [
    "ddp.rollout(x0, us_guess)"
   ]
  },
  {
   "cell_type": "code",
   "execution_count": null,
   "metadata": {},
   "outputs": [],
   "source": [
    "ddp.rollout(xs[0], us)"
   ]
  },
  {
   "cell_type": "code",
   "execution_count": null,
   "metadata": {},
   "outputs": [],
   "source": [
    "xval = numpy.array(x0)\n",
    "uval = numpy.array(u0)\n",
    "ddp._F_ufunc(xval, uval)"
   ]
  },
  {
   "cell_type": "code",
   "execution_count": null,
   "metadata": {},
   "outputs": [],
   "source": [
    "ddp._L_ufunc(x0, u0)"
   ]
  },
  {
   "cell_type": "code",
   "execution_count": null,
   "metadata": {},
   "outputs": [],
   "source": [
    "display(ddp._L_sym)\n",
    "display(ddp._Lx_sym)\n",
    "display(ddp._Lu_sym)\n",
    "display(ddp._Lxx_sym)\n",
    "display(ddp._Lux_sym)\n",
    "display(ddp._Luu_sym)\n",
    "print()\n",
    "display(ddp._lf_sym)\n",
    "display(ddp._lfx_sym)\n",
    "display(ddp._lfxx_sym)\n",
    "\n",
    "Vx = ddp._Vx_sym\n",
    "Vxx = ddp._Vxx_sym"
   ]
  },
  {
   "cell_type": "code",
   "execution_count": null,
   "metadata": {},
   "outputs": [],
   "source": [
    "display(ddp._Qx_sym)\n",
    "display(ddp._Lx_sym + ddp._Fx_sym.T * ddp._Vx_sym)\n",
    "display(ddp._Qx_ufunc(x, u, Vx))\n",
    "\n"
   ]
  },
  {
   "cell_type": "code",
   "execution_count": null,
   "metadata": {},
   "outputs": [],
   "source": [
    "display(ddp._Qu_sym)\n",
    "display(ddp._Lu_sym + ddp._Fu_sym.T * ddp._Vx_sym)\n",
    "display(ddp._Qu_ufunc(x, u, Vx))"
   ]
  },
  {
   "cell_type": "code",
   "execution_count": null,
   "metadata": {},
   "outputs": [],
   "source": []
  }
 ],
 "metadata": {
  "kernelspec": {
   "display_name": "Python 3",
   "language": "python",
   "name": "python3"
  },
  "language_info": {
   "codemirror_mode": {
    "name": "ipython",
    "version": 3
   },
   "file_extension": ".py",
   "mimetype": "text/x-python",
   "name": "python",
   "nbconvert_exporter": "python",
   "pygments_lexer": "ipython3",
   "version": "3.10.6"
  },
  "orig_nbformat": 4
 },
 "nbformat": 4,
 "nbformat_minor": 2
}
