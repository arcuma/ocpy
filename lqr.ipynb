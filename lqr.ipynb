{
 "cells": [
  {
   "cell_type": "code",
   "execution_count": null,
   "metadata": {},
   "outputs": [],
   "source": [
    "from ocpy import OCP, DDPSolver\n",
    "from ocpy import symutils\n",
    "import numpy as np\n",
    "import sympy as sym\n",
    "\n",
    "n_x = 2\n",
    "n_u = 1\n",
    "\n",
    "ocp = OCP(2, 1, 'lqr')\n",
    "x = ocp.get_x()\n",
    "u = ocp.get_u()\n",
    "t = ocp.get_t()\n",
    "f = ocp.zero_vector(n_x)\n",
    "A = np.array([[1.1, 2.0],\n",
    "              [0, 0.95]])\n",
    "B = np.array([[0.0],\n",
    "              [0.0787]])\n",
    "# continuous dynamics.\n",
    "# A = np.array([[1.0, 20],\n",
    "#               [0.0, -0.5]])\n",
    "# B = np.array([[0.0],\n",
    "#               [0.787]])\n",
    "C = np.array([[-2.0, 1.0]])\n",
    "\n",
    "f = A * x + B * u\n",
    "Q = C.T @ C\n",
    "R = np.eye(1)\n",
    "\n",
    "l =  0.5 * (x.T * Q * x + u.T * R * u )\n",
    "lf = 0.5 * (x.T * Q * x)\n",
    "\n",
    "T = 3.0\n",
    "N = 30\n",
    "\n",
    "t0 = 0.0\n",
    "x0 = np.array([3.0, 1.0])\n",
    "u0 = [0.0]\n",
    "us_guess = [u0.copy() for i in range(N)]\n",
    "\n",
    "ocp.define_unconstrained(f, l, lf, T, N, t0, x0, us_guess, is_continuous=False)\n",
    "solver = DDPSolver(ocp)\n"
   ]
  },
  {
   "cell_type": "code",
   "execution_count": null,
   "metadata": {},
   "outputs": [],
   "source": [
    "ts, xs, us, J_hist = solver.solve(result=True, log=True, plot=True)\n"
   ]
  },
  {
   "cell_type": "code",
   "execution_count": null,
   "metadata": {},
   "outputs": [],
   "source": [
    "print(xs)"
   ]
  },
  {
   "cell_type": "code",
   "execution_count": null,
   "metadata": {},
   "outputs": [],
   "source": []
  }
 ],
 "metadata": {
  "kernelspec": {
   "display_name": "Python 3",
   "language": "python",
   "name": "python3"
  },
  "language_info": {
   "codemirror_mode": {
    "name": "ipython",
    "version": 3
   },
   "file_extension": ".py",
   "mimetype": "text/x-python",
   "name": "python",
   "nbconvert_exporter": "python",
   "pygments_lexer": "ipython3",
   "version": "3.10.6"
  },
  "orig_nbformat": 4
 },
 "nbformat": 4,
 "nbformat_minor": 2
}
