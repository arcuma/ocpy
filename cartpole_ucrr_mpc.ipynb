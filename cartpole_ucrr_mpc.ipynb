{
 "cells": [
  {
   "cell_type": "code",
   "execution_count": null,
   "metadata": {},
   "outputs": [],
   "source": [
    "from ocpy import OCP, MPC\n",
    "from ocpy import UCRRSolver\n",
    "from ocpy import symutils\n",
    "\n",
    "import numpy as np\n",
    "import sympy as sym\n",
    "from sympy import sin, cos, tan, exp, log, ln, sinh, cosh, tanh, diff, sqrt\n",
    "from IPython.display import display, Math\n"
   ]
  },
  {
   "cell_type": "code",
   "execution_count": null,
   "metadata": {},
   "outputs": [],
   "source": [
    "# Dimensions of state and input\n",
    "n_x = 4\n",
    "n_u = 1\n",
    "sim_name = 'cartpole'\n",
    "# Define ocp class\n",
    "ocp = OCP(n_x, n_u, sim_name)\n",
    "# Get symbols\n",
    "t = ocp.get_t()\n",
    "x = ocp.get_x()\n",
    "u = ocp.get_u()\n"
   ]
  },
  {
   "cell_type": "code",
   "execution_count": null,
   "metadata": {},
   "outputs": [],
   "source": [
    "# Symbolic expressions of constants.\n",
    "m_c, m_p, l, g, u_min, u_max, u_eps = ocp.define_scalar_constants(\n",
    "         [('m_c', 2), ('m_p', 0.1), ('l', 0.5), ('g', 9.80665), \n",
    "          ('u_min', -15),  ('u_max', 15), ('u_eps', 0.001)]\n",
    "          )\n",
    "# Cost weight\n",
    "q = ocp.define_vector_constant('q', [2.5, 10, 0.01, 0.01])\n",
    "r = ocp.define_vector_constant('r', [1])\n",
    "q_f = ocp.define_vector_constant('q_{f}', [2.5, 10, 0.01, 0.01])\n",
    "Q = symutils.diag(q)\n",
    "Q_f = symutils.diag(q_f)\n",
    "R = symutils.diag(r)\n",
    "# Reference state. \n",
    "x_ref = ocp.define_vector_constant('x_{ref}', [0, np.pi, 0, 0])\n"
   ]
  },
  {
   "cell_type": "code",
   "execution_count": null,
   "metadata": {},
   "outputs": [],
   "source": [
    "# State of equation.\n",
    "f = ocp.get_zero_vector(n_x)\n",
    "f[0] = x[2]\n",
    "f[1] = x[3]\n",
    "f[2] = (u[0] + m_p*sin(x[1])*(l*x[1]*x[1] + g*cos(x[1])) )/( m_c+m_p*sin(x[1])*sin(x[1]) )\n",
    "f[3] = (-u[0] * cos(x[1]) - m_p*l*x[1]*x[1]*cos(x[1])*sin(x[1]) \n",
    "        - (m_c+m_p)*g*sin(x[1]) )/( l*(m_c + m_p*sin(x[1])*sin(x[1])))\n",
    "# Log barrier for control limits.\n",
    "u_barrier = sym.Matrix([sum(-ln(u[i] - u_min) - ln(u_max - u[i]) for i in range(n_u))*1e-5])\n",
    "# Stage cost and terminal cost.\n",
    "l = (x - x_ref).T * Q * (x - x_ref) + u.T * R * u #+ u_barrier\n",
    "lf = (x - x_ref).T * Q_f * (x - x_ref)\n",
    "# Display state equation and cost function\n",
    "display(Math(r\"\\dot{x} = f(x, u, t) \\equiv %s\" % sym.latex(f)))\n",
    "display(Math(r\"l(x, u) = %s\" % sym.latex(l)))\n",
    "display(Math(r\"l_f(x) = %s\" % sym.latex(lf)))\n"
   ]
  },
  {
   "cell_type": "code",
   "execution_count": null,
   "metadata": {},
   "outputs": [],
   "source": [
    "ocp.define_unconstrained(f, l, lf)\n"
   ]
  },
  {
   "cell_type": "code",
   "execution_count": null,
   "metadata": {},
   "outputs": [],
   "source": [
    "# Hand over ocp to solver.\n",
    "# solver = DDPSolver(ocp)\n",
    "solver = UCRRSolver(ocp)\n"
   ]
  },
  {
   "cell_type": "code",
   "execution_count": null,
   "metadata": {},
   "outputs": [],
   "source": [
    "T = 2.0\n",
    "N = 50\n",
    "solver.set_horizon(T, N)\n",
    "\n",
    "t0 = 0.0\n",
    "x0 = np.array([0.0, 0.0, 0.0, 0.0])\n",
    "solver.set_initial_condition(t0, x0)\n",
    "\n",
    "solver.reset_guess()\n",
    "us_guess = np.zeros((N, n_u))\n",
    "solver.set_guess(us_guess=us_guess)\n"
   ]
  },
  {
   "cell_type": "code",
   "execution_count": null,
   "metadata": {},
   "outputs": [],
   "source": [
    "# Model Predictive Control class\n",
    "mpc = MPC(solver)\n"
   ]
  },
  {
   "cell_type": "code",
   "execution_count": null,
   "metadata": {},
   "outputs": [],
   "source": [
    "# Initialize mpc.\n",
    "mpc.init_mpc()\n"
   ]
  },
  {
   "cell_type": "code",
   "execution_count": null,
   "metadata": {},
   "outputs": [],
   "source": [
    "# Run mpc.\n",
    "xs, us, ts = mpc.run(\n",
    "    T_sim=10, sampling_time=0.005, max_iters_mpc=10, feedback_delay=True,\n",
    "    result=True, log=True, plot=True)\n"
   ]
  },
  {
   "cell_type": "code",
   "execution_count": null,
   "metadata": {},
   "outputs": [],
   "source": [
    "%matplotlib inline\n",
    "# visualize\n",
    "from ocpy.animator import CartPoleAnimator\n",
    "animator = CartPoleAnimator(mpc.get_log_directory(), sim_name)\n",
    "animator.generate_animation(save=False, skip_rate=10)\n"
   ]
  },
  {
   "cell_type": "code",
   "execution_count": null,
   "metadata": {},
   "outputs": [],
   "source": [
    "import matplotlib.pyplot as plt\n",
    "\n",
    "result = mpc.get_result()\n",
    "noi_hist = result['noi_hist']\n",
    "\n",
    "plt.plot(noi_hist)\n",
    "plt.title('NOI hist')\n",
    "plt.show()\n"
   ]
  }
 ],
 "metadata": {
  "kernelspec": {
   "display_name": "Python 3",
   "language": "python",
   "name": "python3"
  },
  "language_info": {
   "codemirror_mode": {
    "name": "ipython",
    "version": 3
   },
   "file_extension": ".py",
   "mimetype": "text/x-python",
   "name": "python",
   "nbconvert_exporter": "python",
   "pygments_lexer": "ipython3",
   "version": "3.10.12"
  },
  "orig_nbformat": 4
 },
 "nbformat": 4,
 "nbformat_minor": 2
}
