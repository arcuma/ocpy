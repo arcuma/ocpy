{
 "cells": [
  {
   "cell_type": "markdown",
   "metadata": {},
   "source": [
    "### Define model and cost"
   ]
  },
  {
   "cell_type": "code",
   "execution_count": null,
   "metadata": {},
   "outputs": [],
   "source": [
    "import numpy as np\n",
    "import casadi as ca\n",
    "\n",
    "\n",
    "# cartpole class\n",
    "class CartPole:\n",
    "    def __init__(self, module='casadi'):\n",
    "        if module == 'casadi':\n",
    "            self.sin = ca.sin\n",
    "            self.cos = ca.cos\n",
    "            self.pi = ca.pi\n",
    "        # else if module == 'numpy':\n",
    "        #     self.sin = np.sin\n",
    "        #     self.cos = np.cos\n",
    "        #     self.pi = np.pi\n",
    "        # else:\n",
    "        #     raise TypeError\n",
    "\n",
    "        self.mc = 2.0\n",
    "        self.mp = 0.2\n",
    "        self.l = 0.5\n",
    "        self.gc = 9.80665\n",
    "\n",
    "        self.lbu = -15.0\n",
    "        self.ubu = 15.0\n",
    "        self.lby = 1.0\n",
    "        self.uby = 1.0\n",
    "\n",
    "    def dynamics(self, x, u):\n",
    "        sin = self.sin\n",
    "        cos = self.cos\n",
    "        pi = self.pi\n",
    "\n",
    "        mc = self.mc\n",
    "        mp = self.mp\n",
    "        l = self.l\n",
    "        gc = self.gc\n",
    "\n",
    "        y = x[0]\n",
    "        th = x[1]\n",
    "        dy = x[2]\n",
    "        dth = x[3]\n",
    "        f = u[0]\n",
    "\n",
    "        ddy = (f+mp*sin(th)*(l*dth*dth+gc*cos(th))) / (mc+mp*sin(th)*sin(th)) \n",
    "        ddth = (-f*cos(th)-mp*l*dth*dth*cos(th)*sin(th)-(mc+mp)*gc*sin(th)) / (l * (mc+mp*sin(th)*sin(th))) \n",
    "        return np.array([dy, dth, ddy, ddth])\n"
   ]
  },
  {
   "cell_type": "code",
   "execution_count": null,
   "metadata": {},
   "outputs": [],
   "source": [
    "# cost calculating class\n",
    "class CostFunction:\n",
    "    def __init__(self, module='casadi'):\n",
    "        if module == 'casadi':\n",
    "            self.sin = ca.sin\n",
    "            self.cos = ca.cos\n",
    "            self.pi = ca.pi\n",
    "        # else if module == 'numpy':\n",
    "        #     self.sin = np.sin\n",
    "        #     self.cos = np.cos\n",
    "        #     self.pi = np.pi\n",
    "        # else:\n",
    "        #     raise TypeError\n",
    "        pi = self.pi\n",
    "\n",
    "        self.n_x = 4\n",
    "        self.n_u = 1\n",
    "        self.x_ref = np.array([0.0, pi, 0.0, 0.0])\n",
    "        self.Q = np.array([2.5, 10.0, 0.01, 0.01])\n",
    "        self.R = np.array([1.0])\n",
    "        self.Q_f = np.array([2.5, 10.0, 0.01, 0.01])\n",
    "\n",
    "    def stage_cost(self, x, u):\n",
    "        l = 0.0\n",
    "        for i in range(self.n_x):\n",
    "            l += 0.5 * self.Q[i] * (x[i] - self.x_ref[i]) ** 2\n",
    "        for i in range(self.n_u):\n",
    "            l += 0.5 * self.R[i] * u[i]**2\n",
    "        return l\n",
    "    \n",
    "    def terminal_cost(self, x):\n",
    "        lf = 0.0\n",
    "        for i in range(self.n_x):\n",
    "            lf += 0.5 * self.Q_f[i] * (x[i] - self.x_ref[i]) ** 2\n",
    "        return lf\n",
    "\n"
   ]
  },
  {
   "cell_type": "code",
   "execution_count": null,
   "metadata": {},
   "outputs": [],
   "source": [
    "cartpole = CartPole()\n",
    "cost = CostFunction()\n"
   ]
  },
  {
   "cell_type": "markdown",
   "metadata": {},
   "source": [
    "### Approximate optimal control problem and formulate it as NLP"
   ]
  },
  {
   "cell_type": "code",
   "execution_count": null,
   "metadata": {},
   "outputs": [],
   "source": [
    "# dimension of state and input\n",
    "n_x = 4\n",
    "n_u = 1\n",
    "\n",
    "# horizon length[s], total grids\n",
    "T = 5.0\n",
    "N = 200\n",
    "dt = T / N\n",
    "\n"
   ]
  },
  {
   "cell_type": "code",
   "execution_count": null,
   "metadata": {},
   "outputs": [],
   "source": [
    "# empty NLP\n",
    "\n",
    "# objective function\n",
    "J = 0.0\n",
    "# decision variables: x0, u0, x1, ...\n",
    "w = []\n",
    "# constrints\n",
    "g = []\n",
    "\n",
    "# initial guess of w\n",
    "w0 = []\n",
    "# bound for variable\n",
    "lbw = []\n",
    "ubw = []\n",
    "# bound for constrints\n",
    "lbg = []\n",
    "ubg = []\n"
   ]
  },
  {
   "cell_type": "code",
   "execution_count": null,
   "metadata": {},
   "outputs": [],
   "source": [
    "# initial state\n",
    "Xk = ca.MX.sym('X0', n_x)\n",
    "w += [Xk]\n",
    "\n",
    "w0 += [0.0] * n_x\n",
    "lbw += [0.0] * n_x\n",
    "ubw += [0.0] * n_x\n",
    "\n",
    "# stage k\n",
    "for k in range(N):\n",
    "    # input u\n",
    "    Uk = ca.MX.sym(f'X_{k}', n_u)\n",
    "    w += [Uk]\n",
    "    w0 += [0.0]\n",
    "    lbw += [-15.0]\n",
    "    ubw += [15.0]\n",
    "\n",
    "    # cost function\n",
    "    J += cost.stage_cost(Xk, Uk) * dt\n",
    "\n",
    "    # next state\n",
    "    Xk1 = ca.MX.sym(f'X_{k + 1}', n_x)\n",
    "    w += [Xk1]\n",
    "    w0 += [0.0] * n_x\n",
    "    lbw += [-ca.inf] * n_x\n",
    "    ubw += [ca.inf] * n_x\n",
    "\n",
    "    # dynamics as equality constraint (close gaps)\n",
    "    dXk = ca.vertcat(*cartpole.dynamics(Xk, Uk))\n",
    "    Xk_rollout = Xk + dXk * dt\n",
    "    g += [Xk_rollout - Xk1]\n",
    "    lbg += [0] * n_x\n",
    "    ubg += [0] * n_x\n",
    "\n",
    "    # k = k + 1\n",
    "    Xk = Xk1\n",
    "\n",
    "# terminal cost\n",
    "J += cost.terminal_cost(Xk)\n"
   ]
  },
  {
   "cell_type": "code",
   "execution_count": null,
   "metadata": {},
   "outputs": [],
   "source": [
    "nlp = {'f': J, 'x': ca.vertcat(*w), 'g': ca.vertcat(*g)}\n"
   ]
  },
  {
   "cell_type": "markdown",
   "metadata": {},
   "source": [
    "### Choose solver and solve NLP"
   ]
  },
  {
   "cell_type": "code",
   "execution_count": null,
   "metadata": {},
   "outputs": [],
   "source": [
    "# use IPOPT as NLP solver\n",
    "solver_option = {'ipopt': {'mu_min': 0.001, 'max_iter': 1000}}\n",
    "solver = ca.nlpsol('solver', 'ipopt', nlp, solver_option)\n",
    "\n",
    "# solve\n",
    "sol = solver(x0=w0, lbx=lbw, ubx=ubw, lbg=lbg, ubg=ubg)\n"
   ]
  },
  {
   "cell_type": "markdown",
   "metadata": {},
   "source": [
    "### Plot trajectory"
   ]
  },
  {
   "cell_type": "code",
   "execution_count": null,
   "metadata": {},
   "outputs": [],
   "source": [
    "import path_ocpy\n",
    "from ocpy.plotter import Plotter\n",
    "\n",
    "\n",
    "w_opt = sol['x'].full().reshape(-1)\n",
    "\n",
    "xs_opt = np.zeros((N + 1, n_x))\n",
    "us_opt = np.zeros((N, n_u))\n",
    "ts = np.array([i * dt for i in range(N + 1)])\n",
    "\n",
    "for i in range(N + 1):\n",
    "    n = n_x + n_u\n",
    "    xs_opt[i] = w_opt[i * n: i * n + n_x]\n",
    "\n",
    "for i in range(N):\n",
    "    n = n_x + n_u\n",
    "    us_opt[i] = w_opt[i * n + n_x: (i + 1) * n]\n",
    "\n",
    "log_dir = path_ocpy.dir + '../log/cartpole'\n",
    "\n",
    "# print('final cost:', sol.value(J))\n",
    "print('final cost:', sol['f'])\n",
    "\n",
    "plotter = Plotter(log_dir, xs_opt, us_opt, ts)\n",
    "plotter.plot(save=False)\n"
   ]
  },
  {
   "cell_type": "code",
   "execution_count": null,
   "metadata": {},
   "outputs": [],
   "source": []
  }
 ],
 "metadata": {
  "kernelspec": {
   "display_name": "Python 3",
   "language": "python",
   "name": "python3"
  },
  "language_info": {
   "codemirror_mode": {
    "name": "ipython",
    "version": 3
   },
   "file_extension": ".py",
   "mimetype": "text/x-python",
   "name": "python",
   "nbconvert_exporter": "python",
   "pygments_lexer": "ipython3",
   "version": "3.10.12"
  }
 },
 "nbformat": 4,
 "nbformat_minor": 2
}
