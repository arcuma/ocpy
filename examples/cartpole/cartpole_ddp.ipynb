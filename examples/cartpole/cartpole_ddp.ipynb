{
 "cells": [
  {
   "cell_type": "code",
   "execution_count": null,
   "metadata": {},
   "outputs": [],
   "source": [
    "import path_ocpy\n"
   ]
  },
  {
   "cell_type": "code",
   "execution_count": null,
   "metadata": {},
   "outputs": [],
   "source": [
    "from ocpy import DDPSolver, iLQRSolver\n",
    "import ocp_cartpole\n",
    "\n",
    "import numpy as np\n"
   ]
  },
  {
   "cell_type": "code",
   "execution_count": null,
   "metadata": {},
   "outputs": [],
   "source": [
    "ocp = ocp_cartpole.ocp_cartpole_unconstrained(constrain='barrier', mu=1e-2)\n",
    "# ocp = ocp_cartpole.ocp_cartpole_unconstrained(constrain='penalty', mu=1e0)\n",
    "# ocp = ocp_cartpole.ocp_cartpole()\n"
   ]
  },
  {
   "cell_type": "code",
   "execution_count": null,
   "metadata": {},
   "outputs": [],
   "source": [
    "# ocp.display()"
   ]
  },
  {
   "cell_type": "code",
   "execution_count": null,
   "metadata": {},
   "outputs": [],
   "source": [
    "solver = DDPSolver(ocp)\n",
    "# solver = iLQRSolver(ocp)\n"
   ]
  },
  {
   "cell_type": "code",
   "execution_count": null,
   "metadata": {},
   "outputs": [],
   "source": [
    "### If needed, reset parameters and set solution guess.\n",
    "n_x = ocp.get_n_x()\n",
    "n_u = ocp.get_n_u()\n",
    "T = ocp.get_T()\n",
    "N = ocp.get_N()\n",
    "t0 = ocp.get_t0()\n",
    "x0 = ocp.get_x0()\n",
    "\n",
    "# t0 = 0.0\n",
    "# x0 = np.zeros(n_x)\n",
    "# solver.set_initial_condition(t0=t0, x0=x0)\n",
    "\n",
    "# T = 5.0\n",
    "# N = 200\n",
    "# solver.set_horizon(T=T, N=N)\n",
    "\n",
    "# solver.reset_guess()\n",
    "us_guess = np.zeros((N, n_u))\n",
    "solver.set_guess(us_guess=us_guess)\n"
   ]
  },
  {
   "cell_type": "code",
   "execution_count": null,
   "metadata": {},
   "outputs": [],
   "source": [
    "### set hyperparameters.\n",
    "solver.set_line_search_param(alpha_min=1e-3, r_alpha=0.8, enable_line_search=True)\n",
    "solver.set_regularization_param(\n",
    "    gamma_init=0.0, r_gamma=5.0, gamma_min=0.0, gamma_max=1e6, fix_gamma=True\n",
    ")\n",
    "solver.set_stop_tol(stop_tol=1e-3)\n",
    "solver.set_iters_param(min_iters=0, max_iters=1000)\n"
   ]
  },
  {
   "cell_type": "code",
   "execution_count": null,
   "metadata": {},
   "outputs": [],
   "source": [
    "### solve OCP\n",
    "solver.solve(\n",
    "    result=True, log=True, plot=True\n",
    ")\n"
   ]
  },
  {
   "cell_type": "code",
   "execution_count": null,
   "metadata": {},
   "outputs": [],
   "source": [
    "%matplotlib inline\n",
    "### Visualize\n",
    "from ocpy.animator import CartPoleAnimator\n",
    "animator = CartPoleAnimator(solver.get_log_directory(), ocp.get_ocp_name())\n",
    "animator.generate_animation(save=False, skip_rate=1)\n"
   ]
  },
  {
   "cell_type": "code",
   "execution_count": null,
   "metadata": {},
   "outputs": [],
   "source": [
    "solver.plot_detail()\n"
   ]
  },
  {
   "cell_type": "code",
   "execution_count": null,
   "metadata": {},
   "outputs": [],
   "source": []
  }
 ],
 "metadata": {
  "kernelspec": {
   "display_name": "Python 3",
   "language": "python",
   "name": "python3"
  },
  "language_info": {
   "codemirror_mode": {
    "name": "ipython",
    "version": 3
   },
   "file_extension": ".py",
   "mimetype": "text/x-python",
   "name": "python",
   "nbconvert_exporter": "python",
   "pygments_lexer": "ipython3",
   "version": "3.10.12"
  }
 },
 "nbformat": 4,
 "nbformat_minor": 2
}
