{
 "cells": [
  {
   "cell_type": "markdown",
   "metadata": {},
   "source": [
    "### Define model and cost"
   ]
  },
  {
   "cell_type": "code",
   "execution_count": null,
   "metadata": {},
   "outputs": [],
   "source": [
    "import numpy as np\n",
    "import casadi as ca\n",
    "\n",
    "\n",
    "# cartpole class\n",
    "class CartPole:\n",
    "    def __init__(self, module='casadi'):\n",
    "        if module == 'casadi':\n",
    "            self.sin = ca.sin\n",
    "            self.cos = ca.cos\n",
    "            self.pi = ca.pi\n",
    "        # else if module == 'numpy':\n",
    "        #     self.sin = np.sin\n",
    "        #     self.cos = np.cos\n",
    "        #     self.pi = np.pi\n",
    "        # else:\n",
    "        #     raise TypeError\n",
    "\n",
    "        self.mc = 2.0\n",
    "        self.mp = 0.2\n",
    "        self.l = 0.5\n",
    "        self.gc = 9.80665\n",
    "\n",
    "        self.lbu = -15.0\n",
    "        self.ubu = 15.0\n",
    "        self.lby = 1.0\n",
    "        self.uby = 1.0\n",
    "\n",
    "    def dynamics(self, x, u):\n",
    "        sin = self.sin\n",
    "        cos = self.cos\n",
    "        pi = self.pi\n",
    "\n",
    "        mc = self.mc\n",
    "        mp = self.mp\n",
    "        l = self.l\n",
    "        gc = self.gc\n",
    "\n",
    "        y = x[0]\n",
    "        th = x[1]\n",
    "        dy = x[2]\n",
    "        dth = x[3]\n",
    "        f = u[0]\n",
    "\n",
    "        ddy = (f+mp*sin(th)*(l*dth*dth+gc*cos(th))) / (mc+mp*sin(th)*sin(th)) \n",
    "        ddth = (-f*cos(th)-mp*l*dth*dth*cos(th)*sin(th)-(mc+mp)*gc*sin(th)) / (l * (mc+mp*sin(th)*sin(th))) \n",
    "        return np.array([dy, dth, ddy, ddth])\n"
   ]
  },
  {
   "cell_type": "code",
   "execution_count": null,
   "metadata": {},
   "outputs": [],
   "source": [
    "# cost calculating class\n",
    "class CostFunction:\n",
    "    def __init__(self, module='casadi'):\n",
    "        if module == 'casadi':\n",
    "            self.sin = ca.sin\n",
    "            self.cos = ca.cos\n",
    "            self.pi = ca.pi\n",
    "        # else if module == 'numpy':\n",
    "        #     self.sin = np.sin\n",
    "        #     self.cos = np.cos\n",
    "        #     self.pi = np.pi\n",
    "        # else:\n",
    "        #     raise TypeError\n",
    "        pi = self.pi\n",
    "\n",
    "        self.n_x = 4\n",
    "        self.n_u = 1\n",
    "        self.x_ref = np.array([0.0, pi, 0.0, 0.0])\n",
    "        self.Q = np.array([2.5, 10.0, 0.01, 0.01])\n",
    "        self.R = np.array([1.0])\n",
    "        self.Q_f = np.array([2.5, 10.0, 0.01, 0.01])\n",
    "\n",
    "    def stage_cost(self, x, u):\n",
    "        l = 0.0\n",
    "        for i in range(self.n_x):\n",
    "            l += 0.5 * self.Q[i] * (x[i] - self.x_ref[i]) ** 2\n",
    "        for i in range(self.n_u):\n",
    "            l += 0.5 * self.R[i] * u[i]**2\n",
    "        return l\n",
    "    \n",
    "    def terminal_cost(self, x):\n",
    "        lf = 0.0\n",
    "        for i in range(self.n_x):\n",
    "            lf += 0.5 * self.Q_f[i] * (x[i] - self.x_ref[i]) ** 2\n",
    "        return lf\n",
    "\n",
    "    "
   ]
  },
  {
   "cell_type": "code",
   "execution_count": null,
   "metadata": {},
   "outputs": [],
   "source": [
    "cartpole = CartPole()\n",
    "cost = CostFunction()\n"
   ]
  },
  {
   "cell_type": "markdown",
   "metadata": {},
   "source": [
    "### Approximate optimal control problem and formulate it as NLP"
   ]
  },
  {
   "cell_type": "code",
   "execution_count": null,
   "metadata": {},
   "outputs": [],
   "source": [
    "# opti interface\n",
    "opti = ca.Opti()\n",
    "\n",
    "# dimension of state and input\n",
    "n_x = 4\n",
    "n_u = 1\n",
    "\n",
    "# horizon length[s], total grids\n",
    "T = 5.0\n",
    "N = 200\n",
    "dt = T / N\n",
    "\n",
    "# decision variables (state, input) over the entire horizon.\n",
    "xs = opti.variable(n_x, N + 1)\n",
    "us = opti.variable(n_u, N)\n",
    "\n",
    "# initial state\n",
    "x0 = np.zeros(n_x)#.reshape((1, -1))"
   ]
  },
  {
   "cell_type": "code",
   "execution_count": null,
   "metadata": {},
   "outputs": [],
   "source": [
    "# cost\n",
    "J = 0.0\n",
    "for i in range(N):\n",
    "    J += cost.stage_cost(xs[:, i], us[:, i]) * dt\n",
    "J += cost.terminal_cost(xs[:, N])\n",
    "\n",
    "opti.minimize(J)\n",
    "\n",
    "# state space equasion as equality constraints\n",
    "opti.subject_to(xs[:, 0] == x0)\n",
    "for i in range(N):\n",
    "    f_array = cartpole.dynamics(xs[:, i], us[:, i])\n",
    "    f = ca.vertcat(*f_array)\n",
    "    x1 = xs[:, i] + f * dt\n",
    "    opti.subject_to(xs[:, i + 1] == x1)\n",
    "\n",
    "# bound for control input\n",
    "for i in range(N):\n",
    "    opti.subject_to(opti.bounded(cartpole.lbu, us[:, i], cartpole.ubu))\n",
    "    # opti.subject_to(cartpole.lbu <= us[:, i])\n",
    "    # opti.subject_to(us[:, i] <= cartpole.ubu)\n"
   ]
  },
  {
   "cell_type": "code",
   "execution_count": null,
   "metadata": {},
   "outputs": [],
   "source": [
    "# not working\n",
    "# cost_hist = []\n",
    "# opti.callback(lambda i: cost_hist.append(opti.debug.value(J)))"
   ]
  },
  {
   "cell_type": "markdown",
   "metadata": {},
   "source": [
    "### Choose solver and solve NLP"
   ]
  },
  {
   "cell_type": "code",
   "execution_count": null,
   "metadata": {},
   "outputs": [],
   "source": [
    "# use IPOPT as NLP solver\n",
    "opti.solver('ipopt', {'ipopt': {'mu_min': 0.001, 'max_iter': 1000}})\n",
    "\n",
    "# solve\n",
    "try:\n",
    "    sol = opti.solve()\n",
    "except RuntimeError:\n",
    "    print('\\n[ERROR IN SOLVE]')\n"
   ]
  },
  {
   "cell_type": "markdown",
   "metadata": {},
   "source": [
    "### Plot trajectory"
   ]
  },
  {
   "cell_type": "code",
   "execution_count": null,
   "metadata": {},
   "outputs": [],
   "source": [
    "import path_ocpy\n",
    "from ocpy.plotter import Plotter\n",
    "\n",
    "\n",
    "# xs_opt = sol.value(xs).T\n",
    "# us_opt = sol.value(us).T\n",
    "xs_opt = opti.debug.value(xs).T\n",
    "us_opt = opti.debug.value(us).T\n",
    "ts = np.array([i*dt for i in range(N + 1)])\n",
    "\n",
    "log_dir = path_ocpy.dir + '../log/cartpole'\n",
    "\n",
    "# print('final cost:', sol.value(J))\n",
    "print('final cost:', opti.debug.value(J))\n",
    "\n",
    "plotter = Plotter(log_dir, xs_opt, us_opt, ts)\n",
    "plotter.plot(save=False)\n"
   ]
  },
  {
   "cell_type": "code",
   "execution_count": null,
   "metadata": {},
   "outputs": [],
   "source": []
  }
 ],
 "metadata": {
  "kernelspec": {
   "display_name": "Python 3",
   "language": "python",
   "name": "python3"
  },
  "language_info": {
   "codemirror_mode": {
    "name": "ipython",
    "version": 3
   },
   "file_extension": ".py",
   "mimetype": "text/x-python",
   "name": "python",
   "nbconvert_exporter": "python",
   "pygments_lexer": "ipython3",
   "version": "3.10.12"
  }
 },
 "nbformat": 4,
 "nbformat_minor": 2
}
