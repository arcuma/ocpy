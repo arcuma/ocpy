{
 "cells": [
  {
   "cell_type": "code",
   "execution_count": null,
   "metadata": {},
   "outputs": [],
   "source": [
    "import path_ocpy\n"
   ]
  },
  {
   "cell_type": "code",
   "execution_count": null,
   "metadata": {},
   "outputs": [],
   "source": [
    "# from ocpy import OCP, DDPSolver, iLQRSolver\n",
    "from ocpy import OCP\n",
    "from ocpy import RiccatiRecursionSolver\n",
    "from ocpy import symutils\n",
    "\n",
    "import numpy as np\n",
    "import sympy as sym\n",
    "from sympy import sin, cos, tan, exp, log, ln, sinh, cosh, tanh, diff, sqrt\n",
    "from IPython.display import display, Math\n"
   ]
  },
  {
   "cell_type": "code",
   "execution_count": null,
   "metadata": {},
   "outputs": [],
   "source": [
    "# Dimensions of state and input\n",
    "n_x = 4\n",
    "n_u = 1\n",
    "n_g = 2\n",
    "\n",
    "sim_name = 'cartpole'\n",
    "\n",
    "# Define ocp class\n",
    "ocp = OCP(sim_name, n_x, n_u, n_g)\n",
    "\n",
    "# Get symbols\n",
    "t = ocp.get_t()\n",
    "x = ocp.get_x()\n",
    "u = ocp.get_u()\n"
   ]
  },
  {
   "cell_type": "code",
   "execution_count": null,
   "metadata": {},
   "outputs": [],
   "source": [
    "# Symbolic expressions of constants.\n",
    "m_c, m_p, l, g_c, u_min, u_max, u_eps = ocp.define_scalar_constants(\n",
    "         [('m_c', 2), ('m_p', 0.2), ('l', 0.5), ('g_c', 9.80665), \n",
    "          ('u_min', -15),  ('u_max', 15), ('u_eps', 0.001)]\n",
    "          )\n",
    "\n",
    "# Cost weight\n",
    "q = ocp.define_vector_constant('q', [2.5, 10, 0.01, 0.01])\n",
    "r = ocp.define_vector_constant('r', [1])\n",
    "q_f = ocp.define_vector_constant('q_{f}', [2.5, 10, 0.01, 0.01])\n",
    "Q = symutils.diag(q)\n",
    "Q_f = symutils.diag(q_f)\n",
    "R = symutils.diag(r)\n",
    "\n",
    "# Reference state. \n",
    "x_ref = ocp.define_vector_constant('x_{ref}', [0, np.pi, 0, 0])\n"
   ]
  },
  {
   "cell_type": "code",
   "execution_count": null,
   "metadata": {},
   "outputs": [],
   "source": [
    "# State-space equation\n",
    "f = ocp.get_zero_vector(n_x)\n",
    "f[0] = x[2]\n",
    "f[1] = x[3]\n",
    "f[2] = (u[0] + m_p*sin(x[1])*(l*x[3]*x[3] + g_c*cos(x[1])) )/( m_c+m_p*sin(x[1])*sin(x[1]) )\n",
    "f[3] = (-u[0] * cos(x[1]) - m_p*l*x[3]*x[3]*cos(x[1])*sin(x[1]) - (m_c+m_p)*g_c*sin(x[1]) ) / ( l*(m_c + m_p*sin(x[1])*sin(x[1])))\n",
    "\n",
    "# constraints. g(x, u, t) <= 0.\n",
    "g = ocp.get_zero_vector(n_g)\n",
    "g[0] = u_min - u[0]\n",
    "g[1] = u[0] - u_max\n",
    "\n",
    "# Stage cost and terminal cost.\n",
    "l = 0.5 * (x - x_ref).T * Q * (x - x_ref) + 0.5 * u.T * R * u\n",
    "lf = 0.5 * (x - x_ref).T * Q_f * (x - x_ref)\n",
    "\n",
    "# Display state equation and cost function\n",
    "display(Math(r\"\\dot{x} = f(x, u, t) \\equiv %s\" % sym.latex(f)))\n",
    "display(Math(r\"l(x, u) = %s\" % sym.latex(l)))\n",
    "display(Math(r\"l_f(x) = %s\" % sym.latex(lf)))\n",
    "display(Math(r\"g(x, u) = %s \\leq 0\" % sym.latex(g)))\n",
    "\n"
   ]
  },
  {
   "cell_type": "code",
   "execution_count": null,
   "metadata": {},
   "outputs": [],
   "source": [
    "# Horizon length and discretization grids.\n",
    "T = 5.0\n",
    "N = 200\n",
    "# Initial condition\n",
    "t0 = 0.0\n",
    "x0 = np.array([0.0, 0.0, 0.0, 0.0])\n",
    "\n",
    "# Define ocp\n",
    "ocp.define(f, l, lf, g, t0=t0, x0=x0, T=T, N=N)\n"
   ]
  },
  {
   "cell_type": "code",
   "execution_count": null,
   "metadata": {},
   "outputs": [],
   "source": [
    "# Hand over ocp\n",
    "solver = RiccatiRecursionSolver(ocp)\n",
    "\n",
    "us_guess = np.zeros((N, n_u))\n",
    "xs_guess = np.tile(x0, (N + 1, 1))\n",
    "lmds_guess = np.zeros((N + 1, n_x))\n",
    "\n",
    "solver.set_guess(xs_guess=xs_guess, us_guess=us_guess)\n"
   ]
  },
  {
   "cell_type": "code",
   "execution_count": null,
   "metadata": {},
   "outputs": [],
   "source": [
    "# set hyperparameters.\n",
    "solver.set_line_search_param(alpha_min=1e-4, r_alpha=0.8)\n",
    "solver.set_regularization_param(gamma_init=1e-3, r_gamma=5.0, gamma_min=0.0, gamma_max=1e6)\n",
    "solver.set_kkt_tol(kkt_tol=1e-5)\n",
    "solver.set_barrier_param(mu_init=1e-1, r_mu=0.1)\n",
    "solver.set_max_iters(1000)\n",
    "\n",
    "# Solve ocp\n",
    "xs, us, ts, is_success = solver.solve(\n",
    "    gamma_fixed=0.0, enable_line_search=False, update_mu=True,\n",
    "    result=True, log=True, plot=True\n",
    ")\n"
   ]
  },
  {
   "cell_type": "code",
   "execution_count": null,
   "metadata": {},
   "outputs": [],
   "source": [
    "%matplotlib inline\n",
    "# Visualize\n",
    "from ocpy.animator import CartPoleAnimator\n",
    "animator = CartPoleAnimator(solver.get_log_directory(), sim_name)\n",
    "animator.generate_animation(False)\n"
   ]
  },
  {
   "cell_type": "code",
   "execution_count": null,
   "metadata": {},
   "outputs": [],
   "source": [
    "import matplotlib.pyplot as plt\n",
    "import math\n",
    "\n",
    "result = solver.get_result()\n",
    "\n",
    "cost_hist = result['cost_hist']\n",
    "plt.plot(cost_hist)\n",
    "plt.title('cost')\n",
    "plt.show()\n",
    "\n",
    "kkt_error_hist = result['kkt_error_hist']\n",
    "kkt_error_mu_hist = result['kkt_error_mu_hist']\n",
    "plt.yscale('log')\n",
    "plt.plot(kkt_error_hist, label='kkt_error')\n",
    "plt.plot(kkt_error_mu_hist, label='kkt_error_mu')\n",
    "plt.legend()\n",
    "plt.title('KKT error')\n",
    "plt.show()\n",
    "\n",
    "dyn_error_hist = result['dyn_error_hist']\n",
    "dyn_error_hist = np.where(dyn_error_hist < 1e-20, np.nan, dyn_error_hist)\n",
    "plt.yscale('log')\n",
    "plt.plot(kkt_error_hist, label='kkt_error')\n",
    "plt.plot(dyn_error_hist, label='dyn_error')\n",
    "plt.legend()\n",
    "plt.title('dynamics feasibility error')\n",
    "plt.show()\n",
    "\n",
    "gamma_hist = result['gamma_hist']\n",
    "plt.plot(gamma_hist)\n",
    "plt.title('gamma')\n",
    "plt.show()\n",
    "\n",
    "alpha_hist = result['alpha_hist']\n",
    "plt.plot(alpha_hist)\n",
    "plt.title('alpha')\n",
    "plt.show()\n",
    "print('average alpha:',sum(alpha_hist / (len(alpha_hist) - 1)))\n",
    "\n",
    "mu_hist = result['mu_hist']\n",
    "plt.yscale('log')\n",
    "plt.plot(mu_hist)\n",
    "plt.title('barrier parameter')\n",
    "plt.show()\n",
    "\n",
    "r_merit_hist = result['r_merit_hist']\n",
    "plt.plot(r_merit_hist)\n",
    "plt.title('penalty coefficient of merit function')\n",
    "plt.show()\n"
   ]
  },
  {
   "cell_type": "code",
   "execution_count": null,
   "metadata": {},
   "outputs": [],
   "source": []
  }
 ],
 "metadata": {
  "kernelspec": {
   "display_name": "Python 3",
   "language": "python",
   "name": "python3"
  },
  "language_info": {
   "codemirror_mode": {
    "name": "ipython",
    "version": 3
   },
   "file_extension": ".py",
   "mimetype": "text/x-python",
   "name": "python",
   "nbconvert_exporter": "python",
   "pygments_lexer": "ipython3",
   "version": "3.10.12"
  }
 },
 "nbformat": 4,
 "nbformat_minor": 2
}
