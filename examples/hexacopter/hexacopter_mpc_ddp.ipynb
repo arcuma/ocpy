{
 "cells": [
  {
   "cell_type": "code",
   "execution_count": null,
   "metadata": {},
   "outputs": [],
   "source": [
    "import path_ocpy\n"
   ]
  },
  {
   "cell_type": "code",
   "execution_count": null,
   "metadata": {},
   "outputs": [],
   "source": [
    "from ocpy import DDPSolver, iLQRSolver\n",
    "from ocpy import MPC\n",
    "import ocp_hexacopter\n",
    "\n",
    "import numpy as np\n"
   ]
  },
  {
   "cell_type": "code",
   "execution_count": null,
   "metadata": {},
   "outputs": [],
   "source": [
    "ocp = ocp_hexacopter.ocp_hexacopter_unconstrained(constrain='barrier')\n",
    "# ocp = ocp_hexacopter.ocp_hexacopter_unconstrained(constrain='penalty', mu=1e0)\n",
    "# ocp = ocp_hexacopter.ocp_hexacopter()\n"
   ]
  },
  {
   "cell_type": "code",
   "execution_count": null,
   "metadata": {},
   "outputs": [],
   "source": [
    "# solver = DDPSolver(ocp, init=False)\n",
    "solver = iLQRSolver(ocp, init=False)\n"
   ]
  },
  {
   "cell_type": "code",
   "execution_count": null,
   "metadata": {},
   "outputs": [],
   "source": [
    "# If needed, reset parameters and set solution guess.\n",
    "n_x = ocp.get_n_x()\n",
    "n_u = ocp.get_n_u()\n",
    "T = ocp.get_T()\n",
    "N = ocp.get_N()\n",
    "t0 = ocp.get_t0()\n",
    "x0 = ocp.get_x0()\n",
    "\n",
    "t0 = 0.0\n",
    "x0 = np.array([0, 0, 5, 0, 0, 0, 0, 0, 0, 0, 0, 0])\n",
    "solver.set_initial_condition(t0, x0)\n",
    "\n",
    "T = 1.5\n",
    "N = 50\n",
    "solver.set_horizon(T, N)\n",
    "\n",
    "solver.reset_guess()\n",
    "us_guess = np.array([[1, 1, 1, 1, 1, 1] for i in range(N)])\n",
    "solver.set_guess(us_guess=us_guess)"
   ]
  },
  {
   "cell_type": "code",
   "execution_count": null,
   "metadata": {},
   "outputs": [],
   "source": [
    "solver.init_solver()"
   ]
  },
  {
   "cell_type": "code",
   "execution_count": null,
   "metadata": {},
   "outputs": [],
   "source": [
    "# set hyperparameters.\n",
    "solver.set_line_search_param(alpha_min=1e-4, r_alpha=0.8)\n",
    "# solver.set_regularization_param(\n",
    "#     gamma_init=1e-3, r_gamma=5.0, gamma_min=0.0, gamma_max=1e6\n",
    "# )\n",
    "solver.set_stop_tol(stop_tol=1e-5)\n",
    "solver.set_max_iters(1000)\n"
   ]
  },
  {
   "cell_type": "code",
   "execution_count": null,
   "metadata": {},
   "outputs": [],
   "source": [
    "# Model Predictive Control class\n",
    "mpc = MPC(solver)\n"
   ]
  },
  {
   "cell_type": "code",
   "execution_count": null,
   "metadata": {},
   "outputs": [],
   "source": [
    "# Initialize mpc.\n",
    "mpc.init_mpc(enable_line_search=True)"
   ]
  },
  {
   "cell_type": "code",
   "execution_count": null,
   "metadata": {},
   "outputs": [],
   "source": [
    "import matplotlib.pyplot as plt\n",
    "\n",
    "\n",
    "mpc._solver._result['noi']\n",
    "\n",
    "xs = mpc._solver._xs_opt\n",
    "us = mpc._solver._us_opt\n",
    "\n",
    "plt.plot(xs)\n",
    "plt.show()\n",
    "\n",
    "plt.plot(us)\n",
    "plt.show()\n"
   ]
  },
  {
   "cell_type": "code",
   "execution_count": null,
   "metadata": {},
   "outputs": [],
   "source": [
    "# Run mpc.\n",
    "xs, us, ts = mpc.run(\n",
    "    T_sim=10, sampling_time=0.005, max_iters_mpc=5,\n",
    "    result=True, log=True, plot=True\n",
    ")\n"
   ]
  },
  {
   "cell_type": "code",
   "execution_count": null,
   "metadata": {},
   "outputs": [],
   "source": [
    "%matplotlib inline\n",
    "# Visualize\n",
    "from ocpy.animator import HexacopterAnimator\n",
    "animator = HexacopterAnimator(mpc.get_log_directory(), ocp.get_ocp_name())\n",
    "animator.generate_animation(save=False, skip_rate=10)\n"
   ]
  },
  {
   "cell_type": "code",
   "execution_count": null,
   "metadata": {},
   "outputs": [],
   "source": [
    "import matplotlib.pyplot as plt\n",
    "\n",
    "result = mpc.get_result()\n",
    "\n",
    "noi_hist = result['noi_hist']\n",
    "plt.plot(noi_hist)\n",
    "plt.title('NOI hist')\n",
    "plt.show()\n"
   ]
  },
  {
   "cell_type": "code",
   "execution_count": null,
   "metadata": {},
   "outputs": [],
   "source": []
  }
 ],
 "metadata": {
  "kernelspec": {
   "display_name": "Python 3",
   "language": "python",
   "name": "python3"
  },
  "language_info": {
   "codemirror_mode": {
    "name": "ipython",
    "version": 3
   },
   "file_extension": ".py",
   "mimetype": "text/x-python",
   "name": "python",
   "nbconvert_exporter": "python",
   "pygments_lexer": "ipython3",
   "version": "3.10.12"
  }
 },
 "nbformat": 4,
 "nbformat_minor": 2
}
