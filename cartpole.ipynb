{
 "cells": [
  {
   "cell_type": "code",
   "execution_count": null,
   "metadata": {},
   "outputs": [],
   "source": [
    "from ocpy import ddp, symutils\n",
    "from ocpy.ddp import DDPSolver\n",
    "from ocpy.ocp import OCP\n",
    "import numpy as np\n",
    "import sympy as sym\n",
    "from sympy import sin, cos, tan, exp, log, ln, sinh, cosh, tanh, diff, sqrt\n",
    "\n",
    "# import warnings\n",
    "# warnings.filterwarnings('error')\n"
   ]
  },
  {
   "cell_type": "code",
   "execution_count": null,
   "metadata": {},
   "outputs": [],
   "source": [
    "# dimensions of state and input\n",
    "n_x = 4\n",
    "n_u = 1\n",
    "sim_name = 'cartpole'\n",
    "# define ocp class\n",
    "ocp = OCP(n_x, n_u, sim_name)\n",
    "# get symbols\n",
    "t = ocp.get_t()\n",
    "x = ocp.get_x()\n",
    "u = ocp.get_u()"
   ]
  },
  {
   "cell_type": "code",
   "execution_count": null,
   "metadata": {},
   "outputs": [],
   "source": [
    "# symbolic expressions of constants.\n",
    "m_c, m_p, l, g, u_min, u_max, u_eps = ocp.define_scalar_constants(\n",
    "         [('m_c', 2), ('m_p', 0.1), ('l', 0.5), ('g', 9.80665), \n",
    "          ('u_min', -15),  ('u_max', 15), ('u_eps', 0.001)]\n",
    "          )\n",
    "# cost weight\n",
    "q = ocp.define_vector_constant('q', [2.5, 10, 0.01, 0.01])\n",
    "r = ocp.define_vector_constant('r', [1])\n",
    "q_f = ocp.define_vector_constant('q_f', [2.5, 10, 0.01, 0.01])\n",
    "Q = sym.diag(*q)\n",
    "Qf = sym.diag(*q_f)\n",
    "R = sym.diag(*r)\n",
    "# reference state. \n",
    "x_ref = ocp.define_vector_constant('x_ref', [0, np.pi, 0, 0])\n"
   ]
  },
  {
   "cell_type": "code",
   "execution_count": null,
   "metadata": {},
   "outputs": [],
   "source": [
    "# state of equation.\n",
    "f = ocp.get_f_empty()\n",
    "f[0] = x[2]\n",
    "f[1] = x[3]\n",
    "f[2] = (u[0] + m_p*sin(x[1])*(l*x[1]*x[1] + g*cos(x[1])) )/( m_c+m_p*sin(x[1])*sin(x[1]) )\n",
    "f[3] = (-u[0] * cos(x[1]) - m_p*l*x[1]*x[1]*cos(x[1])*sin(x[1]) \n",
    "        - (m_c+m_p)*g*sin(x[1]) )/( l*(m_c + m_p*sin(x[1])*sin(x[1])))\n",
    "# log barrier for control limits.\n",
    "u_barrier = sum(-ln(u[i] - u_min) - ln(u_max - u[i]) for i in range(n_u)) * 1e-5\n",
    "# stage cost and terminal cost.\n",
    "l = (x - x_ref).T * Q * (x - x_ref) + u.T * R * u + sym.Matrix([u_barrier])\n",
    "lf = (x - x_ref).T * Qf * (x - x_ref) * 10\n",
    "# display state equation and cost function\n",
    "display(f)\n",
    "display(l)\n",
    "display(lf)\n"
   ]
  },
  {
   "cell_type": "code",
   "execution_count": null,
   "metadata": {},
   "outputs": [],
   "source": [
    "# horizon length and discretization grids.\n",
    "T = 5.0\n",
    "N = 200\n",
    "# initial condition\n",
    "t0 = 0.0\n",
    "x0 = np.array([0.0, 0.0, 0.0, 0.0])\n",
    "us_guess = np.zeros((N, n_u))\n",
    "# define ocp\n",
    "ocp.define(f, l, lf, T, N, t0, x0, us_guess, True, False)\n"
   ]
  },
  {
   "cell_type": "code",
   "execution_count": null,
   "metadata": {},
   "outputs": [],
   "source": [
    "# hand over ocp to solver.\n",
    "solver = DDPSolver(ocp)"
   ]
  },
  {
   "cell_type": "code",
   "execution_count": null,
   "metadata": {},
   "outputs": [],
   "source": [
    "# warnings.filterwarnings('error')\n",
    "# warnings.resetwarnings()\n",
    "# candidates of line search steps.\n",
    "alphas = [0.5**i for i in range(8)].append(0)\n",
    "# set solver properties.\n",
    "solver.set_solver_parameters(\n",
    "    max_iter=250, alphas=alphas, damp_init=1e-3, damp_max=1e4, damp_min=1e-3\n",
    ")\n",
    "# solve ocpj\n",
    "ts, xs, us, Js = solver.solve(result= True, log=True)\n",
    "\n",
    "# damp_fixed = 0\n",
    "# ts, xs, us, Js = solver.solve(\n",
    "#     t0, x0, us_guess, max_iter=300, alphas=0.5**np.arange(1) ,\n",
    "#     damp_init=damp_fixed, damp_min=damp_fixed, damp_max=damp_fixed, result=True, log=True)"
   ]
  },
  {
   "cell_type": "code",
   "execution_count": null,
   "metadata": {},
   "outputs": [],
   "source": [
    "%matplotlib inline\n",
    "# visualize\n",
    "from ocpy.animator import CartPoleAnimator\n",
    "animator = CartPoleAnimator(solver.get_log_directory(), sim_name)\n",
    "animator.generate_animation(False)\n"
   ]
  },
  {
   "cell_type": "code",
   "execution_count": null,
   "metadata": {},
   "outputs": [],
   "source": [
    "ocp.get_symbolic_derivatives_substituted()[1][0]"
   ]
  },
  {
   "cell_type": "code",
   "execution_count": null,
   "metadata": {},
   "outputs": [],
   "source": [
    "ocp.get_symbolic_derivatives()[0][1]"
   ]
  },
  {
   "cell_type": "code",
   "execution_count": null,
   "metadata": {},
   "outputs": [],
   "source": []
  }
 ],
 "metadata": {
  "kernelspec": {
   "display_name": "Python 3",
   "language": "python",
   "name": "python3"
  },
  "language_info": {
   "codemirror_mode": {
    "name": "ipython",
    "version": 3
   },
   "file_extension": ".py",
   "mimetype": "text/x-python",
   "name": "python",
   "nbconvert_exporter": "python",
   "pygments_lexer": "ipython3",
   "version": "3.10.6"
  },
  "orig_nbformat": 4
 },
 "nbformat": 4,
 "nbformat_minor": 2
}
