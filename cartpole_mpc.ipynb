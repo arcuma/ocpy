{
 "cells": [
  {
   "cell_type": "code",
   "execution_count": null,
   "metadata": {},
   "outputs": [],
   "source": [
    "from ocpy import OCP, DDPSolver, iLQRSolver, MPC\n",
    "from ocpy import symutils\n",
    "\n",
    "import numpy as np\n",
    "import sympy as sym\n",
    "from sympy import sin, cos, tan, exp, log, ln, sinh, cosh, tanh, diff, sqrt\n",
    "from IPython.display import display, Math\n"
   ]
  },
  {
   "cell_type": "code",
   "execution_count": null,
   "metadata": {},
   "outputs": [],
   "source": [
    "# Dimensions of state and input\n",
    "n_x = 4\n",
    "n_u = 1\n",
    "sim_name = 'cartpole'\n",
    "# Define ocp class\n",
    "ocp = OCP(n_x, n_u, sim_name)\n",
    "# Get symbols\n",
    "t = ocp.get_t()\n",
    "x = ocp.get_x()\n",
    "u = ocp.get_u()"
   ]
  },
  {
   "cell_type": "code",
   "execution_count": null,
   "metadata": {},
   "outputs": [],
   "source": [
    "# Symbolic expressions of constants.\n",
    "m_c, m_p, l, g, u_min, u_max, u_eps = ocp.define_scalar_constants(\n",
    "         [('m_c', 2), ('m_p', 0.1), ('l', 0.5), ('g', 9.80665), \n",
    "          ('u_min', -12),  ('u_max', 12), ('u_eps', 0.001)]\n",
    "          )\n",
    "# Cost weight\n",
    "q = ocp.define_vector_constant('q', [2.5, 10, 0.01, 0.01])\n",
    "r = ocp.define_vector_constant('r', [1])\n",
    "q_f = ocp.define_vector_constant('q_f', [2.5, 10, 0.01, 0.01])\n",
    "Q = sym.diag(*q)\n",
    "Qf = sym.diag(*q_f)\n",
    "R = sym.diag(*r)\n",
    "# Reference state. \n",
    "x_ref = ocp.define_vector_constant('x_ref', [0, np.pi, 0, 0])\n"
   ]
  },
  {
   "cell_type": "code",
   "execution_count": null,
   "metadata": {},
   "outputs": [],
   "source": [
    "# State of equation.\n",
    "f = ocp.zero_vector(n_x)\n",
    "f[0] = x[2]\n",
    "f[1] = x[3]\n",
    "f[2] = (u[0] + m_p*sin(x[1])*(l*x[1]*x[1] + g*cos(x[1])) )/( m_c+m_p*sin(x[1])*sin(x[1]) )\n",
    "f[3] = (-u[0] * cos(x[1]) - m_p*l*x[1]*x[1]*cos(x[1])*sin(x[1]) \n",
    "        - (m_c+m_p)*g*sin(x[1]) )/( l*(m_c + m_p*sin(x[1])*sin(x[1])))\n",
    "# Log barrier for control limits.\n",
    "u_barrier = sum(-ln(u[i] - u_min) - ln(u_max - u[i]) for i in range(n_u)) * 1e-5\n",
    "# Stage cost and terminal cost.\n",
    "l = (x - x_ref).T * Q * (x - x_ref) + u.T * R * u\n",
    "l = l[0, 0] + u_barrier\n",
    "lf = (x - x_ref).T * Qf * (x - x_ref)\n",
    "# Display state equation and cost function\n",
    "display(Math(r\"\\dot{x} = f(x, u, t) \\equiv %s\" % sym.latex(f)))\n",
    "display(Math(r\"l(x, u) = %s\" % sym.latex(l)))\n",
    "display(Math(r\"l_f(x) = %s\" % sym.latex(lf)))\n"
   ]
  },
  {
   "cell_type": "code",
   "execution_count": null,
   "metadata": {},
   "outputs": [],
   "source": [
    "# Horizon length and discretization grids.\n",
    "T = 2.0\n",
    "N = 100\n",
    "# Initial condition\n",
    "t0 = 0.0\n",
    "x0 = np.array([0.0, 0.0, 0.0, 0.0])\n",
    "# Initial Guess of solution.\n",
    "us_guess = np.zeros((N, n_u))\n",
    "# Define ocp\n",
    "ocp.define_unconstrained(f, l, lf, t0, x0, T, N ,us_guess=us_guess)\n"
   ]
  },
  {
   "cell_type": "code",
   "execution_count": null,
   "metadata": {},
   "outputs": [],
   "source": [
    "# Hand over ocp to solver.\n",
    "# solver = DDPSolver(ocp)\n",
    "solver = iLQRSolver(ocp)\n"
   ]
  },
  {
   "cell_type": "code",
   "execution_count": null,
   "metadata": {},
   "outputs": [],
   "source": [
    "# Model Predictive Control\n",
    "mpc = MPC(solver)\n"
   ]
  },
  {
   "cell_type": "code",
   "execution_count": null,
   "metadata": {},
   "outputs": [],
   "source": [
    "# Initialize mpc.\n",
    "mpc.init_mpc(t0, x0, T, N)\n"
   ]
  },
  {
   "cell_type": "code",
   "execution_count": null,
   "metadata": {},
   "outputs": [],
   "source": [
    "# Run mpc.\n",
    "xs, us, ts = mpc.run(T_sim=10, sampling_time=0.005, max_iters_mpc=5, result=True, log=True, plot=True)"
   ]
  },
  {
   "cell_type": "code",
   "execution_count": null,
   "metadata": {},
   "outputs": [],
   "source": [
    "# todo: skip frames for fast generation of animation\n",
    "# %matplotlib inline\n",
    "# # visualize\n",
    "# from ocpy.animator import CartPoleAnimator\n",
    "# animator = CartPoleAnimator(mpc.get_log_directory(), sim_name)\n",
    "# animator.generate_animation(False)\n",
    "\n"
   ]
  }
 ],
 "metadata": {
  "kernelspec": {
   "display_name": "Python 3",
   "language": "python",
   "name": "python3"
  },
  "language_info": {
   "codemirror_mode": {
    "name": "ipython",
    "version": 3
   },
   "file_extension": ".py",
   "mimetype": "text/x-python",
   "name": "python",
   "nbconvert_exporter": "python",
   "pygments_lexer": "ipython3",
   "version": "3.10.6"
  },
  "orig_nbformat": 4
 },
 "nbformat": 4,
 "nbformat_minor": 2
}
