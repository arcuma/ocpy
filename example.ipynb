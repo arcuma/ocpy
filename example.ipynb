{
 "cells": [
  {
   "cell_type": "code",
   "execution_count": null,
   "metadata": {},
   "outputs": [],
   "source": [
    "from ocpy import OCP\n",
    "from ocpy import DDPSolver, iLQRSolver\n",
    "from ocpy import symutils\n",
    "\n",
    "import numpy as np\n",
    "import sympy as sym\n",
    "from sympy import sin, cos, tan, exp, log, ln, sinh, cosh, tanh, diff, sqrt\n"
   ]
  },
  {
   "cell_type": "code",
   "execution_count": null,
   "metadata": {},
   "outputs": [],
   "source": [
    "# Dimensions of state and input\n",
    "n_x = 4\n",
    "n_u = 1\n",
    "sim_name = 'cartpole'\n",
    "\n",
    "# Define ocp class\n",
    "ocp = OCP(sim_name, n_x, n_u)\n",
    "\n",
    "# Get symbols\n",
    "t = ocp.get_t()\n",
    "x = ocp.get_x()\n",
    "u = ocp.get_u()\n"
   ]
  },
  {
   "cell_type": "code",
   "execution_count": null,
   "metadata": {},
   "outputs": [],
   "source": [
    "# Symbolic expressions of constants.\n",
    "m_c, m_p, l, g_c, u_min, u_max = ocp.define_scalar_constants(\n",
    "         [('m_c', 2), ('m_p', 0.2), ('l', 0.5), ('g', 9.80665), \n",
    "          ('u_min', -15),  ('u_max', 15)]\n",
    ")\n",
    "\n",
    "# Cost weight\n",
    "q = ocp.define_vector_constant('q', [2.5, 10, 0.01, 0.01])\n",
    "r = ocp.define_vector_constant('r', [1])\n",
    "q_f = ocp.define_vector_constant('q_{f}', [2.5, 10, 0.01, 0.01])\n",
    "Q = symutils.diag(q)\n",
    "Q_f = symutils.diag(q_f)\n",
    "R = symutils.diag(r)\n",
    "\n",
    "# Reference state. \n",
    "x_ref = ocp.define_vector_constant('x_{ref}', [0, np.pi, 0, 0])\n"
   ]
  },
  {
   "cell_type": "code",
   "execution_count": null,
   "metadata": {},
   "outputs": [],
   "source": [
    "# State space representation.\n",
    "f = ocp.get_zero_vector(n_x)\n",
    "f[0] = x[2]\n",
    "f[1] = x[3]\n",
    "f[2] = (u[0] + m_p*sin(x[1])*(l*x[3]*x[3] + g_c*cos(x[1])) )/( m_c+m_p*sin(x[1])*sin(x[1]) )\n",
    "f[3] = (-u[0] * cos(x[1]) - m_p*l*x[3]*x[3]*cos(x[1])*sin(x[1]) \n",
    "        - (m_c+m_p)*g_c*sin(x[1]) )/( l*(m_c + m_p*sin(x[1])*sin(x[1])))\n",
    "\n",
    "# Log barrier / exp penalty for control limits.\n",
    "# u_penalty = ocp.get_penalty(u, [u_min], [u_max], mu=1e0)\n",
    "u_barrier = ocp.get_barrier(u, [u_min], [u_max])\n",
    "\n",
    "# Stage cost and terminal cost.\n",
    "l = 0.5 * (x - x_ref).T * Q * (x - x_ref) + 0.5 * u.T * R * u + u_barrier\n",
    "lf = 0.5 * (x - x_ref).T * Q_f * (x - x_ref)\n"
   ]
  },
  {
   "cell_type": "code",
   "execution_count": null,
   "metadata": {},
   "outputs": [],
   "source": [
    "# Horizon length and discretization grids.\n",
    "T = 5.0\n",
    "N = 200\n",
    "\n",
    "# Initial condition\n",
    "t0 = 0.0\n",
    "x0 = np.array([0.0, 0.0, 0.0, 0.0])\n",
    "\n",
    "# Define ocp\n",
    "ocp.define_unconstrained(f, l, lf, t0, x0, T, N)\n"
   ]
  },
  {
   "cell_type": "code",
   "execution_count": null,
   "metadata": {},
   "outputs": [],
   "source": [
    "# Display problem\n",
    "ocp.display()"
   ]
  },
  {
   "cell_type": "code",
   "execution_count": null,
   "metadata": {},
   "outputs": [],
   "source": [
    "# Hand over ocp to solver.\n",
    "# DDP, based on exact Hessian.\n",
    "solver = DDPSolver(ocp)\n",
    "\n",
    "# iLQR, Based on Gauss-Newton-like approximated Hessian.\n",
    "# solver = iLQRSolver(ocp)\n"
   ]
  },
  {
   "cell_type": "code",
   "execution_count": null,
   "metadata": {},
   "outputs": [],
   "source": [
    "# If needed, reset parameters and set solution guess.\n",
    "n_x = ocp.get_n_x()\n",
    "n_u = ocp.get_n_u()\n",
    "T = ocp.get_T()\n",
    "N = ocp.get_N()\n",
    "t0 = ocp.get_t0()\n",
    "x0 = ocp.get_x0()\n",
    "\n",
    "# t0 = 0.0\n",
    "# x0 = np.zeros(n_x)\n",
    "# solver.set_initial_condition(t0=t0, x0=x0)\n",
    "\n",
    "# T = 5.0\n",
    "# N = 200\n",
    "# solver.set_horizon(T=T, N=N)\n",
    "\n",
    "# solver.reset_guess()\n",
    "us_guess = np.zeros((N, n_u))\n",
    "solver.set_guess(us_guess=us_guess)\n"
   ]
  },
  {
   "cell_type": "code",
   "execution_count": null,
   "metadata": {},
   "outputs": [],
   "source": [
    "# set parameters.\n",
    "solver.set_line_search_param(alpha_min=1e-3, r_alpha=0.5)\n",
    "# solver.set_regularization_param(\n",
    "#     gamma_init=1e-3, r_gamma=5.0, gamma_min=0.0, gamma_max=1e6\n",
    "# )\n",
    "solver.set_stop_tol(1e-3)\n",
    "solver.set_max_iters(1000)\n",
    "\n",
    "# Solve ocp\n",
    "solver.solve(\n",
    "    update_gamma=False, enable_line_search=True,\n",
    "    result=True, log=True, plot=True\n",
    ")\n"
   ]
  },
  {
   "cell_type": "code",
   "execution_count": null,
   "metadata": {},
   "outputs": [],
   "source": [
    "%matplotlib inline\n",
    "# Visualize\n",
    "from ocpy.animator import CartPoleAnimator\n",
    "animator = CartPoleAnimator(solver.get_log_directory(), sim_name)\n",
    "animator.generate_animation(False)\n"
   ]
  },
  {
   "cell_type": "code",
   "execution_count": null,
   "metadata": {},
   "outputs": [],
   "source": []
  },
  {
   "cell_type": "code",
   "execution_count": null,
   "metadata": {},
   "outputs": [],
   "source": [
    "import matplotlib.pyplot as plt\n",
    "import math\n",
    "\n",
    "result = solver.get_result()\n",
    "\n",
    "gamma_hist = result['gamma_hist']\n",
    "plt.plot(gamma_hist)\n",
    "plt.title('gamma')\n",
    "plt.show()\n",
    "\n",
    "alpha_hist = result['alpha_hist']\n",
    "plt.plot(alpha_hist)\n",
    "plt.title('alpha')\n",
    "plt.show()\n",
    "print('average alpha:',sum(alpha_hist / (len(alpha_hist) - 1)))\n",
    "\n",
    "cost_hist = result['cost_hist']\n",
    "plt.plot(cost_hist)\n",
    "plt.title('cost')\n",
    "plt.show()\n"
   ]
  },
  {
   "cell_type": "code",
   "execution_count": null,
   "metadata": {},
   "outputs": [],
   "source": []
  }
 ],
 "metadata": {
  "kernelspec": {
   "display_name": "Python 3",
   "language": "python",
   "name": "python3"
  },
  "language_info": {
   "codemirror_mode": {
    "name": "ipython",
    "version": 3
   },
   "file_extension": ".py",
   "mimetype": "text/x-python",
   "name": "python",
   "nbconvert_exporter": "python",
   "pygments_lexer": "ipython3",
   "version": "3.10.12"
  }
 },
 "nbformat": 4,
 "nbformat_minor": 2
}
