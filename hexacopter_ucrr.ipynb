{
 "cells": [
  {
   "cell_type": "code",
   "execution_count": null,
   "metadata": {},
   "outputs": [],
   "source": [
    "from ocpy import OCP\n",
    "from ocpy import UCRRSolver\n",
    "from ocpy import symutils\n",
    "\n",
    "import numpy as np\n",
    "import sympy as sym\n",
    "from sympy import sin, cos, tan, exp, log, ln, sinh, cosh, tanh, diff, sqrt\n",
    "from IPython.display import display, Math\n"
   ]
  },
  {
   "cell_type": "code",
   "execution_count": null,
   "metadata": {},
   "outputs": [],
   "source": [
    "n_x = 12\n",
    "n_u = 6\n",
    "sim_name = 'hexacopter'\n",
    "\n",
    "ocp = OCP(n_x, n_u, sim_name)\n",
    "\n",
    "t = ocp.get_t()\n",
    "x = ocp.get_x()\n",
    "u = ocp.get_u()\n"
   ]
  },
  {
   "cell_type": "code",
   "execution_count": null,
   "metadata": {},
   "outputs": [],
   "source": [
    "m, l, k, Ixx, Iyy, Izz, gamma, g = ocp.define_scalar_constants(\n",
    "    [('m', 1.44), ('l', 0.23), ('k', 1.6e-09),\n",
    "     ('I_xx', 0.0348), ('I_yy', 0.0459), ('I_zz', 0.0977),\n",
    "     ('gamma', 0.01), ('g', 9.80665)]\n",
    ")\n",
    "z_ref, u_min, u_max, epsilon = ocp.define_scalar_constants(\n",
    "    [('z_ref', 5), ('u_min', 0.144), ('u_max', 6), ('epsilon', 0.01)]\n",
    ")\n",
    "\n",
    "q = ocp.define_vector_constant(\n",
    "    'q',  [1, 1, 1, 0.01, 0.01, 0, 0.01, 0.01, 0.01, 0.1, 0.1, 0.001])\n",
    "r = ocp.define_vector_constant(\n",
    "    'r',  [0.01, 0.01, 0.01, 0.01, 0.01, 0.01])\n",
    "q_f = ocp.define_vector_constant(\n",
    "    'q_{f}',  [1, 1, 1, 0.01, 0.01, 0, 0.01, 0.01, 0.01, 0.1, 0.1, 0.001])\n",
    "Q = symutils.diag(q)\n",
    "R = symutils.diag(r)\n",
    "Q_f = symutils.diag(q_f)\n"
   ]
  },
  {
   "cell_type": "code",
   "execution_count": null,
   "metadata": {},
   "outputs": [],
   "source": [
    "p_ref = ocp.get_zero_vector(3)\n",
    "p_ref[0] = sin(2*t)\n",
    "p_ref[1] = 1 - cos(2*t)\n",
    "p_ref[2] = z_ref + 2*sin(2*t)\n",
    "# or directly\n",
    "# p_ref = sym.Matrix([[sin(2*t)],\n",
    "#                     [(1 - cos(2*t))],\n",
    "#                     [z_ref + 2*sin(t)]])\n",
    "p_ref_diff = p_ref.diff(t)\n",
    "\n",
    "x_ref = ocp.get_zero_vector(n_x)\n",
    "x_ref[0:3, :] = p_ref\n",
    "x_ref[3:6, :] = p_ref_diff\n",
    "\n",
    "U1 = sum(u[i] for i in range(n_u))\n",
    "U2 = l*(-u[0]/2 - u[1] - u[2]/2 + u[3]/2 + u[4]+ u[5]/2)\n",
    "U3 = l*(-(sqrt(3)/2)*u[0] + (sqrt(3)/2)*u[2] + (sqrt(3)/2)*u[3] - (sqrt(3)/2)*u[5])\n",
    "U4 = k*(-u[0] + u[1] - u[2] + u[3] - u[4] + u[5]) - gamma * x[11]\n",
    "\n",
    "f = ocp.get_zero_vector(n_x)\n",
    "f[0] = x[6]\n",
    "f[1] = x[7]\n",
    "f[2] = x[8]\n",
    "f[3] = x[9]\n",
    "f[4] = x[10]\n",
    "f[5] = x[11]\n",
    "f[6] = (cos(x[5])*sin(x[4])*cos(x[3]) + sin(x[5])*sin(x[3]))*U1/m\n",
    "f[7] = (sin(x[5])*sin(x[4])*cos(x[3]) - cos(x[5])*sin(x[3]))*U1/m\n",
    "f[8] = -g + (cos(x[3])*cos(x[4]))*U1/m\n",
    "f[9] = ((Iyy-Izz)/Ixx)*x[10]*x[11] + U2/Ixx\n",
    "f[10] = ((Izz-Ixx)/Iyy)*x[9]*x[11] + U3/Iyy\n",
    "f[11] = ((Ixx-Iyy)/Izz)*x[9]*x[10] + U4/Izz\n",
    "\n",
    "u_ref = ocp.get_zero_vector(n_u)\n",
    "for i in range(n_u):\n",
    "    u_ref[i] = (m*g) / 6\n",
    "\n",
    "u_barrier = epsilon * sym.Matrix([sum(-ln(u[i] - u_min) - ln(u_max - u[i]) for i in range(n_u))])\n",
    "l = (x - x_ref).T * Q * (x - x_ref) + (u - u_ref).T * R * (u - u_ref) + u_barrier\n",
    "lf = (x - x_ref).T * Q_f * (x - x_ref)\n",
    "\n",
    "display(Math(r\"\\dot{x} = f(x, u, t) \\equiv %s\" % sym.latex(f)))\n",
    "display(Math(r\"l(x, u) = %s\" % sym.latex(l)))\n",
    "display(Math(r\"l_f(x) = %s\" % sym.latex(lf)))\n"
   ]
  },
  {
   "cell_type": "code",
   "execution_count": null,
   "metadata": {},
   "outputs": [],
   "source": [
    "T = 5.0\n",
    "N = 200\n",
    "\n",
    "t0 = 0.0\n",
    "x0 = np.array([0, 0, 5, 0, 0, 0, 0, 0, 0, 0, 0, 0])\n",
    "\n",
    "ocp.define_unconstrained(f, l, lf, t0, x0, T, N)\n"
   ]
  },
  {
   "cell_type": "code",
   "execution_count": null,
   "metadata": {},
   "outputs": [],
   "source": [
    "solver = UCRRSolver(ocp)\n",
    "\n",
    "us_guess = np.array([[1, 1, 1, 1, 1, 1] for i in range(N)])\n",
    "xs_guess = np.tile(x0, (N + 1, 1))\n",
    "lmds_guess = np.zeros((N + 1, n_x))\n",
    "\n",
    "solver.set_guess(xs_guess=xs_guess, us_guess=us_guess, lmds_guess=lmds_guess)\n"
   ]
  },
  {
   "cell_type": "code",
   "execution_count": null,
   "metadata": {},
   "outputs": [],
   "source": [
    "alphas = [0.5**i for i in range(8)]\n",
    "\n",
    "# set hyperparameters.\n",
    "solver.set_alphas(alphas)\n",
    "solver.set_regularization_coeff(gamma_init=1e-3, rho_gamma=5.0, gamma_min=0.0, gamma_max=1e6)\n",
    "solver.set_kkt_tol(kkt_tol=1e-3)\n",
    "solver.set_max_iters(1000)\n",
    "\n",
    "# Solve ocp\n",
    "xs, us, ts, is_success = solver.solve(\n",
    "    result=True, log=True, plot=True, gamma_fixed=0.0, enable_line_search=True\n",
    ")\n"
   ]
  },
  {
   "cell_type": "code",
   "execution_count": null,
   "metadata": {},
   "outputs": [],
   "source": [
    "xs"
   ]
  },
  {
   "cell_type": "code",
   "execution_count": null,
   "metadata": {},
   "outputs": [],
   "source": [
    "%matplotlib inline\n",
    "# Visualize\n",
    "from ocpy.animator import HexacopterAnimator\n",
    "animator = HexacopterAnimator(solver.get_log_directory(), sim_name)\n",
    "animator.generate_animation(False)\n"
   ]
  },
  {
   "cell_type": "code",
   "execution_count": null,
   "metadata": {},
   "outputs": [],
   "source": [
    "print('xs\\n', xs)\n",
    "print('us\\n', us)\n"
   ]
  },
  {
   "cell_type": "code",
   "execution_count": null,
   "metadata": {},
   "outputs": [],
   "source": [
    "result = solver.get_result()\n",
    "gamma_hist = result['gamma_hist']\n",
    "\n",
    "import matplotlib.pyplot as plt\n",
    "import math\n",
    "\n",
    "plt.plot(gamma_hist)\n",
    "plt.title('gamma')\n",
    "plt.show()\n",
    "\n",
    "alpha_hist = result['alpha_hist']\n",
    "plt.plot(alpha_hist)\n",
    "plt.title('alpha')\n",
    "plt.show()\n",
    "print('average alpha:',sum(alpha_hist / (len(alpha_hist) - 1)))\n",
    "\n",
    "cost_hist = result['cost_hist']\n",
    "plt.plot(cost_hist)\n",
    "plt.title('cost')\n",
    "plt.show()\n",
    "\n",
    "kkt_error_hist = result['kkt_error_hist']\n",
    "plt.yscale('log')\n",
    "plt.plot(kkt_error_hist)\n",
    "plt.title('KKT error')\n",
    "plt.show()\n",
    "\n",
    "dyn_feas_hist = result['dyn_feas_hist']\n",
    "dyn_feas_hist = np.where(dyn_feas_hist < 1e-20, np.nan, dyn_feas_hist)\n",
    "plt.yscale('log')\n",
    "plt.plot(kkt_error_hist, label='kkt_error')\n",
    "plt.plot(dyn_feas_hist, label='dyn_feas')\n",
    "plt.legend()\n",
    "plt.title('dynamics feasibility error')\n",
    "plt.show()\n"
   ]
  },
  {
   "cell_type": "code",
   "execution_count": null,
   "metadata": {},
   "outputs": [],
   "source": []
  }
 ],
 "metadata": {
  "kernelspec": {
   "display_name": "Python 3",
   "language": "python",
   "name": "python3"
  },
  "language_info": {
   "codemirror_mode": {
    "name": "ipython",
    "version": 3
   },
   "file_extension": ".py",
   "mimetype": "text/x-python",
   "name": "python",
   "nbconvert_exporter": "python",
   "pygments_lexer": "ipython3",
   "version": "3.10.12"
  },
  "orig_nbformat": 4
 },
 "nbformat": 4,
 "nbformat_minor": 2
}
